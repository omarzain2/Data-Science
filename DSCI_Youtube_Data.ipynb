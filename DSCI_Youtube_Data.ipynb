{
 "cells": [
  {
   "cell_type": "markdown",
   "metadata": {},
   "source": []
  },
  {
   "cell_type": "code",
   "execution_count": 1,
   "metadata": {},
   "outputs": [],
   "source": [
    "import pandas as pd\n",
    "import numpy as np\n",
    "import matplotlib.pyplot as plt\n",
    "import seaborn as sns\n",
    "from sklearn.feature_extraction.text import TfidfVectorizer\n",
    "from sklearn.linear_model import LogisticRegression\n",
    "from sklearn.metrics import classification_report\n",
    "from sklearn.metrics import confusion_matrix, roc_auc_score, roc_curve\n",
    "from sklearn.model_selection import GridSearchCV\n",
    "\n",
    "from sklearn import metrics"
   ]
  },
  {
   "cell_type": "code",
   "execution_count": 2,
   "metadata": {},
   "outputs": [],
   "source": [
    "df = pd.read_csv(\"/Users/zain/Downloads/YouTube-Spam-Collection-v1/Youtube04-Eminem.csv\")"
   ]
  },
  {
   "cell_type": "code",
   "execution_count": 3,
   "metadata": {
    "scrolled": false
   },
   "outputs": [
    {
     "data": {
      "text/html": [
       "<div>\n",
       "<style scoped>\n",
       "    .dataframe tbody tr th:only-of-type {\n",
       "        vertical-align: middle;\n",
       "    }\n",
       "\n",
       "    .dataframe tbody tr th {\n",
       "        vertical-align: top;\n",
       "    }\n",
       "\n",
       "    .dataframe thead th {\n",
       "        text-align: right;\n",
       "    }\n",
       "</style>\n",
       "<table border=\"1\" class=\"dataframe\">\n",
       "  <thead>\n",
       "    <tr style=\"text-align: right;\">\n",
       "      <th></th>\n",
       "      <th>COMMENT_ID</th>\n",
       "      <th>AUTHOR</th>\n",
       "      <th>DATE</th>\n",
       "      <th>CONTENT</th>\n",
       "      <th>CLASS</th>\n",
       "    </tr>\n",
       "  </thead>\n",
       "  <tbody>\n",
       "    <tr>\n",
       "      <th>0</th>\n",
       "      <td>z12rwfnyyrbsefonb232i5ehdxzkjzjs2</td>\n",
       "      <td>Lisa Wellas</td>\n",
       "      <td>NaN</td>\n",
       "      <td>+447935454150 lovely girl talk to me xxx﻿</td>\n",
       "      <td>1</td>\n",
       "    </tr>\n",
       "    <tr>\n",
       "      <th>1</th>\n",
       "      <td>z130wpnwwnyuetxcn23xf5k5ynmkdpjrj04</td>\n",
       "      <td>jason graham</td>\n",
       "      <td>2015-05-29T02:26:10.652000</td>\n",
       "      <td>I always end up coming back to this song&lt;br /&gt;﻿</td>\n",
       "      <td>0</td>\n",
       "    </tr>\n",
       "    <tr>\n",
       "      <th>2</th>\n",
       "      <td>z13vsfqirtavjvu0t22ezrgzyorwxhpf3</td>\n",
       "      <td>Ajkal Khan</td>\n",
       "      <td>NaN</td>\n",
       "      <td>my sister just received over 6,500 new &lt;a rel=...</td>\n",
       "      <td>1</td>\n",
       "    </tr>\n",
       "    <tr>\n",
       "      <th>3</th>\n",
       "      <td>z12wjzc4eprnvja4304cgbbizuved35wxcs</td>\n",
       "      <td>Dakota Taylor</td>\n",
       "      <td>2015-05-29T02:13:07.810000</td>\n",
       "      <td>Cool﻿</td>\n",
       "      <td>0</td>\n",
       "    </tr>\n",
       "    <tr>\n",
       "      <th>4</th>\n",
       "      <td>z13xjfr42z3uxdz2223gx5rrzs3dt5hna</td>\n",
       "      <td>Jihad Naser</td>\n",
       "      <td>NaN</td>\n",
       "      <td>Hello I&amp;#39;am from Palastine﻿</td>\n",
       "      <td>1</td>\n",
       "    </tr>\n",
       "    <tr>\n",
       "      <th>5</th>\n",
       "      <td>z133yfmjdur4dvyjr04ceh2osl2fvngrqi4</td>\n",
       "      <td>Darrion Johnson</td>\n",
       "      <td>2015-05-29T01:27:30.360000</td>\n",
       "      <td>Wow this video almost has a billion views! Did...</td>\n",
       "      <td>0</td>\n",
       "    </tr>\n",
       "    <tr>\n",
       "      <th>6</th>\n",
       "      <td>z12zgrw5furdsn0sc233hfwavnznyhicq</td>\n",
       "      <td>kyeman13</td>\n",
       "      <td>NaN</td>\n",
       "      <td>Go check out my rapping video called Four Whee...</td>\n",
       "      <td>1</td>\n",
       "    </tr>\n",
       "    <tr>\n",
       "      <th>7</th>\n",
       "      <td>z12vxdzzds2kzzrzq04cdjc4ozq2szuyl5o</td>\n",
       "      <td>Damax</td>\n",
       "      <td>2015-05-29T00:41:22.426000</td>\n",
       "      <td>Almost 1 billion﻿</td>\n",
       "      <td>0</td>\n",
       "    </tr>\n",
       "    <tr>\n",
       "      <th>8</th>\n",
       "      <td>z12gxdortqzwhhqas04cfjrwituzghb5tvk0k</td>\n",
       "      <td>Muhammad Asim Mansha</td>\n",
       "      <td>NaN</td>\n",
       "      <td>Aslamu Lykum... From Pakistan﻿</td>\n",
       "      <td>1</td>\n",
       "    </tr>\n",
       "    <tr>\n",
       "      <th>9</th>\n",
       "      <td>z132wd4ywmicxj2gn04cdfhilyryjhmjhk00k</td>\n",
       "      <td>JuanPa Rap</td>\n",
       "      <td>2015-05-28T23:23:41.231000</td>\n",
       "      <td>Eminem is idol for very people in España and M...</td>\n",
       "      <td>0</td>\n",
       "    </tr>\n",
       "  </tbody>\n",
       "</table>\n",
       "</div>"
      ],
      "text/plain": [
       "                              COMMENT_ID                AUTHOR  \\\n",
       "0      z12rwfnyyrbsefonb232i5ehdxzkjzjs2           Lisa Wellas   \n",
       "1    z130wpnwwnyuetxcn23xf5k5ynmkdpjrj04          jason graham   \n",
       "2      z13vsfqirtavjvu0t22ezrgzyorwxhpf3            Ajkal Khan   \n",
       "3    z12wjzc4eprnvja4304cgbbizuved35wxcs         Dakota Taylor   \n",
       "4      z13xjfr42z3uxdz2223gx5rrzs3dt5hna           Jihad Naser   \n",
       "5    z133yfmjdur4dvyjr04ceh2osl2fvngrqi4       Darrion Johnson   \n",
       "6      z12zgrw5furdsn0sc233hfwavnznyhicq              kyeman13   \n",
       "7    z12vxdzzds2kzzrzq04cdjc4ozq2szuyl5o                 Damax   \n",
       "8  z12gxdortqzwhhqas04cfjrwituzghb5tvk0k  Muhammad Asim Mansha   \n",
       "9  z132wd4ywmicxj2gn04cdfhilyryjhmjhk00k            JuanPa Rap   \n",
       "\n",
       "                         DATE  \\\n",
       "0                         NaN   \n",
       "1  2015-05-29T02:26:10.652000   \n",
       "2                         NaN   \n",
       "3  2015-05-29T02:13:07.810000   \n",
       "4                         NaN   \n",
       "5  2015-05-29T01:27:30.360000   \n",
       "6                         NaN   \n",
       "7  2015-05-29T00:41:22.426000   \n",
       "8                         NaN   \n",
       "9  2015-05-28T23:23:41.231000   \n",
       "\n",
       "                                             CONTENT  CLASS  \n",
       "0          +447935454150 lovely girl talk to me xxx﻿      1  \n",
       "1    I always end up coming back to this song<br />﻿      0  \n",
       "2  my sister just received over 6,500 new <a rel=...      1  \n",
       "3                                              Cool﻿      0  \n",
       "4                     Hello I&#39;am from Palastine﻿      1  \n",
       "5  Wow this video almost has a billion views! Did...      0  \n",
       "6  Go check out my rapping video called Four Whee...      1  \n",
       "7                                  Almost 1 billion﻿      0  \n",
       "8                     Aslamu Lykum... From Pakistan﻿      1  \n",
       "9  Eminem is idol for very people in España and M...      0  "
      ]
     },
     "execution_count": 3,
     "metadata": {},
     "output_type": "execute_result"
    }
   ],
   "source": [
    "df.head(10)"
   ]
  },
  {
   "cell_type": "code",
   "execution_count": 4,
   "metadata": {},
   "outputs": [
    {
     "data": {
      "text/plain": [
       "(245, 203)"
      ]
     },
     "execution_count": 4,
     "metadata": {},
     "output_type": "execute_result"
    }
   ],
   "source": [
    "len(df.loc[(df['CLASS'] == 1)]), len(df.loc[(df['CLASS'] == 0)])"
   ]
  },
  {
   "cell_type": "code",
   "execution_count": 7,
   "metadata": {},
   "outputs": [
    {
     "data": {
      "text/plain": [
       "(80.0, 80.29556650246306, 356)"
      ]
     },
     "execution_count": 7,
     "metadata": {},
     "output_type": "execute_result"
    }
   ],
   "source": [
    "196/245 * 100, 163/203 *100, 196+160"
   ]
  },
  {
   "cell_type": "code",
   "execution_count": 8,
   "metadata": {},
   "outputs": [],
   "source": [
    "vectorizer = TfidfVectorizer()\n",
    "\n",
    "train_set = pd.concat([df.loc[(df['CLASS'] == 1)][0:196], df.loc[(df['CLASS'] == 0)][0:163]])\n",
    "X_train = train_set['CONTENT']\n",
    "y_train = train_set['CLASS']"
   ]
  },
  {
   "cell_type": "code",
   "execution_count": 9,
   "metadata": {},
   "outputs": [
    {
     "data": {
      "text/plain": [
       "((359,), (359,))"
      ]
     },
     "execution_count": 9,
     "metadata": {},
     "output_type": "execute_result"
    }
   ],
   "source": [
    "X_train.shape, y_train.shape"
   ]
  },
  {
   "cell_type": "code",
   "execution_count": 10,
   "metadata": {},
   "outputs": [],
   "source": [
    "test_set = pd.concat([df.loc[(df['CLASS'] == 1)][196:], df.loc[(df['CLASS'] == 0)][163:]])\n",
    "X_test = test_set['CONTENT']\n",
    "y_test = test_set['CLASS']"
   ]
  },
  {
   "cell_type": "code",
   "execution_count": 11,
   "metadata": {},
   "outputs": [],
   "source": [
    "vectorizer = TfidfVectorizer()\n",
    "vectorizer.fit(X_train)\n",
    "X_train_tfidf = vectorizer.transform(X_train)\n",
    "X_test_tfidf = vectorizer.transform(X_test)"
   ]
  },
  {
   "cell_type": "code",
   "execution_count": 12,
   "metadata": {},
   "outputs": [
    {
     "name": "stdout",
     "output_type": "stream",
     "text": [
      "(359, 1414)\n",
      "(89, 1414)\n"
     ]
    },
    {
     "data": {
      "text/plain": [
       "(None, None)"
      ]
     },
     "execution_count": 12,
     "metadata": {},
     "output_type": "execute_result"
    }
   ],
   "source": [
    "print(X_train_tfidf.shape), print(X_test_tfidf.shape)"
   ]
  },
  {
   "cell_type": "code",
   "execution_count": 13,
   "metadata": {},
   "outputs": [],
   "source": [
    "X_train_tfidf = pd.DataFrame(X_train_tfidf.toarray())"
   ]
  },
  {
   "cell_type": "code",
   "execution_count": 14,
   "metadata": {},
   "outputs": [],
   "source": [
    "X_train_tfidf.columns = vectorizer.get_feature_names()"
   ]
  },
  {
   "cell_type": "code",
   "execution_count": 15,
   "metadata": {},
   "outputs": [
    {
     "data": {
      "text/html": [
       "<div>\n",
       "<style scoped>\n",
       "    .dataframe tbody tr th:only-of-type {\n",
       "        vertical-align: middle;\n",
       "    }\n",
       "\n",
       "    .dataframe tbody tr th {\n",
       "        vertical-align: top;\n",
       "    }\n",
       "\n",
       "    .dataframe thead th {\n",
       "        text-align: right;\n",
       "    }\n",
       "</style>\n",
       "<table border=\"1\" class=\"dataframe\">\n",
       "  <thead>\n",
       "    <tr style=\"text-align: right;\">\n",
       "      <th></th>\n",
       "      <th>00</th>\n",
       "      <th>000</th>\n",
       "      <th>047000</th>\n",
       "      <th>09</th>\n",
       "      <th>10</th>\n",
       "      <th>100</th>\n",
       "      <th>100877300245414</th>\n",
       "      <th>11</th>\n",
       "      <th>12</th>\n",
       "      <th>1337</th>\n",
       "      <th>...</th>\n",
       "      <th>yourself</th>\n",
       "      <th>youtu</th>\n",
       "      <th>youtube</th>\n",
       "      <th>youtubers</th>\n",
       "      <th>ytma</th>\n",
       "      <th>yuliya</th>\n",
       "      <th>yuttx04oyqq</th>\n",
       "      <th>zesty</th>\n",
       "      <th>zip</th>\n",
       "      <th>zonepa</th>\n",
       "    </tr>\n",
       "  </thead>\n",
       "  <tbody>\n",
       "    <tr>\n",
       "      <th>0</th>\n",
       "      <td>0.0</td>\n",
       "      <td>0.0</td>\n",
       "      <td>0.0</td>\n",
       "      <td>0.0</td>\n",
       "      <td>0.0</td>\n",
       "      <td>0.0</td>\n",
       "      <td>0.0</td>\n",
       "      <td>0.0</td>\n",
       "      <td>0.0</td>\n",
       "      <td>0.0</td>\n",
       "      <td>...</td>\n",
       "      <td>0.0</td>\n",
       "      <td>0.0</td>\n",
       "      <td>0.000000</td>\n",
       "      <td>0.0</td>\n",
       "      <td>0.0</td>\n",
       "      <td>0.0</td>\n",
       "      <td>0.0</td>\n",
       "      <td>0.0</td>\n",
       "      <td>0.0</td>\n",
       "      <td>0.0</td>\n",
       "    </tr>\n",
       "    <tr>\n",
       "      <th>1</th>\n",
       "      <td>0.0</td>\n",
       "      <td>0.0</td>\n",
       "      <td>0.0</td>\n",
       "      <td>0.0</td>\n",
       "      <td>0.0</td>\n",
       "      <td>0.0</td>\n",
       "      <td>0.0</td>\n",
       "      <td>0.0</td>\n",
       "      <td>0.0</td>\n",
       "      <td>0.0</td>\n",
       "      <td>...</td>\n",
       "      <td>0.0</td>\n",
       "      <td>0.0</td>\n",
       "      <td>0.105814</td>\n",
       "      <td>0.0</td>\n",
       "      <td>0.0</td>\n",
       "      <td>0.0</td>\n",
       "      <td>0.0</td>\n",
       "      <td>0.0</td>\n",
       "      <td>0.0</td>\n",
       "      <td>0.0</td>\n",
       "    </tr>\n",
       "    <tr>\n",
       "      <th>2</th>\n",
       "      <td>0.0</td>\n",
       "      <td>0.0</td>\n",
       "      <td>0.0</td>\n",
       "      <td>0.0</td>\n",
       "      <td>0.0</td>\n",
       "      <td>0.0</td>\n",
       "      <td>0.0</td>\n",
       "      <td>0.0</td>\n",
       "      <td>0.0</td>\n",
       "      <td>0.0</td>\n",
       "      <td>...</td>\n",
       "      <td>0.0</td>\n",
       "      <td>0.0</td>\n",
       "      <td>0.000000</td>\n",
       "      <td>0.0</td>\n",
       "      <td>0.0</td>\n",
       "      <td>0.0</td>\n",
       "      <td>0.0</td>\n",
       "      <td>0.0</td>\n",
       "      <td>0.0</td>\n",
       "      <td>0.0</td>\n",
       "    </tr>\n",
       "    <tr>\n",
       "      <th>3</th>\n",
       "      <td>0.0</td>\n",
       "      <td>0.0</td>\n",
       "      <td>0.0</td>\n",
       "      <td>0.0</td>\n",
       "      <td>0.0</td>\n",
       "      <td>0.0</td>\n",
       "      <td>0.0</td>\n",
       "      <td>0.0</td>\n",
       "      <td>0.0</td>\n",
       "      <td>0.0</td>\n",
       "      <td>...</td>\n",
       "      <td>0.0</td>\n",
       "      <td>0.0</td>\n",
       "      <td>0.000000</td>\n",
       "      <td>0.0</td>\n",
       "      <td>0.0</td>\n",
       "      <td>0.0</td>\n",
       "      <td>0.0</td>\n",
       "      <td>0.0</td>\n",
       "      <td>0.0</td>\n",
       "      <td>0.0</td>\n",
       "    </tr>\n",
       "    <tr>\n",
       "      <th>4</th>\n",
       "      <td>0.0</td>\n",
       "      <td>0.0</td>\n",
       "      <td>0.0</td>\n",
       "      <td>0.0</td>\n",
       "      <td>0.0</td>\n",
       "      <td>0.0</td>\n",
       "      <td>0.0</td>\n",
       "      <td>0.0</td>\n",
       "      <td>0.0</td>\n",
       "      <td>0.0</td>\n",
       "      <td>...</td>\n",
       "      <td>0.0</td>\n",
       "      <td>0.0</td>\n",
       "      <td>0.000000</td>\n",
       "      <td>0.0</td>\n",
       "      <td>0.0</td>\n",
       "      <td>0.0</td>\n",
       "      <td>0.0</td>\n",
       "      <td>0.0</td>\n",
       "      <td>0.0</td>\n",
       "      <td>0.0</td>\n",
       "    </tr>\n",
       "    <tr>\n",
       "      <th>...</th>\n",
       "      <td>...</td>\n",
       "      <td>...</td>\n",
       "      <td>...</td>\n",
       "      <td>...</td>\n",
       "      <td>...</td>\n",
       "      <td>...</td>\n",
       "      <td>...</td>\n",
       "      <td>...</td>\n",
       "      <td>...</td>\n",
       "      <td>...</td>\n",
       "      <td>...</td>\n",
       "      <td>...</td>\n",
       "      <td>...</td>\n",
       "      <td>...</td>\n",
       "      <td>...</td>\n",
       "      <td>...</td>\n",
       "      <td>...</td>\n",
       "      <td>...</td>\n",
       "      <td>...</td>\n",
       "      <td>...</td>\n",
       "      <td>...</td>\n",
       "    </tr>\n",
       "    <tr>\n",
       "      <th>354</th>\n",
       "      <td>0.0</td>\n",
       "      <td>0.0</td>\n",
       "      <td>0.0</td>\n",
       "      <td>0.0</td>\n",
       "      <td>0.0</td>\n",
       "      <td>0.0</td>\n",
       "      <td>0.0</td>\n",
       "      <td>0.0</td>\n",
       "      <td>0.0</td>\n",
       "      <td>0.0</td>\n",
       "      <td>...</td>\n",
       "      <td>0.0</td>\n",
       "      <td>0.0</td>\n",
       "      <td>0.000000</td>\n",
       "      <td>0.0</td>\n",
       "      <td>0.0</td>\n",
       "      <td>0.0</td>\n",
       "      <td>0.0</td>\n",
       "      <td>0.0</td>\n",
       "      <td>0.0</td>\n",
       "      <td>0.0</td>\n",
       "    </tr>\n",
       "    <tr>\n",
       "      <th>355</th>\n",
       "      <td>0.0</td>\n",
       "      <td>0.0</td>\n",
       "      <td>0.0</td>\n",
       "      <td>0.0</td>\n",
       "      <td>0.0</td>\n",
       "      <td>0.0</td>\n",
       "      <td>0.0</td>\n",
       "      <td>0.0</td>\n",
       "      <td>0.0</td>\n",
       "      <td>0.0</td>\n",
       "      <td>...</td>\n",
       "      <td>0.0</td>\n",
       "      <td>0.0</td>\n",
       "      <td>0.000000</td>\n",
       "      <td>0.0</td>\n",
       "      <td>0.0</td>\n",
       "      <td>0.0</td>\n",
       "      <td>0.0</td>\n",
       "      <td>0.0</td>\n",
       "      <td>0.0</td>\n",
       "      <td>0.0</td>\n",
       "    </tr>\n",
       "    <tr>\n",
       "      <th>356</th>\n",
       "      <td>0.0</td>\n",
       "      <td>0.0</td>\n",
       "      <td>0.0</td>\n",
       "      <td>0.0</td>\n",
       "      <td>0.0</td>\n",
       "      <td>0.0</td>\n",
       "      <td>0.0</td>\n",
       "      <td>0.0</td>\n",
       "      <td>0.0</td>\n",
       "      <td>0.0</td>\n",
       "      <td>...</td>\n",
       "      <td>0.0</td>\n",
       "      <td>0.0</td>\n",
       "      <td>0.000000</td>\n",
       "      <td>0.0</td>\n",
       "      <td>0.0</td>\n",
       "      <td>0.0</td>\n",
       "      <td>0.0</td>\n",
       "      <td>0.0</td>\n",
       "      <td>0.0</td>\n",
       "      <td>0.0</td>\n",
       "    </tr>\n",
       "    <tr>\n",
       "      <th>357</th>\n",
       "      <td>0.0</td>\n",
       "      <td>0.0</td>\n",
       "      <td>0.0</td>\n",
       "      <td>0.0</td>\n",
       "      <td>0.0</td>\n",
       "      <td>0.0</td>\n",
       "      <td>0.0</td>\n",
       "      <td>0.0</td>\n",
       "      <td>0.0</td>\n",
       "      <td>0.0</td>\n",
       "      <td>...</td>\n",
       "      <td>0.0</td>\n",
       "      <td>0.0</td>\n",
       "      <td>0.000000</td>\n",
       "      <td>0.0</td>\n",
       "      <td>0.0</td>\n",
       "      <td>0.0</td>\n",
       "      <td>0.0</td>\n",
       "      <td>0.0</td>\n",
       "      <td>0.0</td>\n",
       "      <td>0.0</td>\n",
       "    </tr>\n",
       "    <tr>\n",
       "      <th>358</th>\n",
       "      <td>0.0</td>\n",
       "      <td>0.0</td>\n",
       "      <td>0.0</td>\n",
       "      <td>0.0</td>\n",
       "      <td>0.0</td>\n",
       "      <td>0.0</td>\n",
       "      <td>0.0</td>\n",
       "      <td>0.0</td>\n",
       "      <td>0.0</td>\n",
       "      <td>0.0</td>\n",
       "      <td>...</td>\n",
       "      <td>0.0</td>\n",
       "      <td>0.0</td>\n",
       "      <td>0.000000</td>\n",
       "      <td>0.0</td>\n",
       "      <td>0.0</td>\n",
       "      <td>0.0</td>\n",
       "      <td>0.0</td>\n",
       "      <td>0.0</td>\n",
       "      <td>0.0</td>\n",
       "      <td>0.0</td>\n",
       "    </tr>\n",
       "  </tbody>\n",
       "</table>\n",
       "<p>359 rows × 1414 columns</p>\n",
       "</div>"
      ],
      "text/plain": [
       "      00  000  047000   09   10  100  100877300245414   11   12  1337  ...  \\\n",
       "0    0.0  0.0     0.0  0.0  0.0  0.0              0.0  0.0  0.0   0.0  ...   \n",
       "1    0.0  0.0     0.0  0.0  0.0  0.0              0.0  0.0  0.0   0.0  ...   \n",
       "2    0.0  0.0     0.0  0.0  0.0  0.0              0.0  0.0  0.0   0.0  ...   \n",
       "3    0.0  0.0     0.0  0.0  0.0  0.0              0.0  0.0  0.0   0.0  ...   \n",
       "4    0.0  0.0     0.0  0.0  0.0  0.0              0.0  0.0  0.0   0.0  ...   \n",
       "..   ...  ...     ...  ...  ...  ...              ...  ...  ...   ...  ...   \n",
       "354  0.0  0.0     0.0  0.0  0.0  0.0              0.0  0.0  0.0   0.0  ...   \n",
       "355  0.0  0.0     0.0  0.0  0.0  0.0              0.0  0.0  0.0   0.0  ...   \n",
       "356  0.0  0.0     0.0  0.0  0.0  0.0              0.0  0.0  0.0   0.0  ...   \n",
       "357  0.0  0.0     0.0  0.0  0.0  0.0              0.0  0.0  0.0   0.0  ...   \n",
       "358  0.0  0.0     0.0  0.0  0.0  0.0              0.0  0.0  0.0   0.0  ...   \n",
       "\n",
       "     yourself  youtu   youtube  youtubers  ytma  yuliya  yuttx04oyqq  zesty  \\\n",
       "0         0.0    0.0  0.000000        0.0   0.0     0.0          0.0    0.0   \n",
       "1         0.0    0.0  0.105814        0.0   0.0     0.0          0.0    0.0   \n",
       "2         0.0    0.0  0.000000        0.0   0.0     0.0          0.0    0.0   \n",
       "3         0.0    0.0  0.000000        0.0   0.0     0.0          0.0    0.0   \n",
       "4         0.0    0.0  0.000000        0.0   0.0     0.0          0.0    0.0   \n",
       "..        ...    ...       ...        ...   ...     ...          ...    ...   \n",
       "354       0.0    0.0  0.000000        0.0   0.0     0.0          0.0    0.0   \n",
       "355       0.0    0.0  0.000000        0.0   0.0     0.0          0.0    0.0   \n",
       "356       0.0    0.0  0.000000        0.0   0.0     0.0          0.0    0.0   \n",
       "357       0.0    0.0  0.000000        0.0   0.0     0.0          0.0    0.0   \n",
       "358       0.0    0.0  0.000000        0.0   0.0     0.0          0.0    0.0   \n",
       "\n",
       "     zip  zonepa  \n",
       "0    0.0     0.0  \n",
       "1    0.0     0.0  \n",
       "2    0.0     0.0  \n",
       "3    0.0     0.0  \n",
       "4    0.0     0.0  \n",
       "..   ...     ...  \n",
       "354  0.0     0.0  \n",
       "355  0.0     0.0  \n",
       "356  0.0     0.0  \n",
       "357  0.0     0.0  \n",
       "358  0.0     0.0  \n",
       "\n",
       "[359 rows x 1414 columns]"
      ]
     },
     "execution_count": 15,
     "metadata": {},
     "output_type": "execute_result"
    }
   ],
   "source": [
    "X_train_tfidf"
   ]
  },
  {
   "cell_type": "code",
   "execution_count": 16,
   "metadata": {},
   "outputs": [],
   "source": [
    "X_test_tfidf = pd.DataFrame(X_test_tfidf.toarray())\n",
    "X_test_tfidf.columns = vectorizer.get_feature_names()"
   ]
  },
  {
   "cell_type": "code",
   "execution_count": 17,
   "metadata": {},
   "outputs": [
    {
     "data": {
      "text/html": [
       "<div>\n",
       "<style scoped>\n",
       "    .dataframe tbody tr th:only-of-type {\n",
       "        vertical-align: middle;\n",
       "    }\n",
       "\n",
       "    .dataframe tbody tr th {\n",
       "        vertical-align: top;\n",
       "    }\n",
       "\n",
       "    .dataframe thead th {\n",
       "        text-align: right;\n",
       "    }\n",
       "</style>\n",
       "<table border=\"1\" class=\"dataframe\">\n",
       "  <thead>\n",
       "    <tr style=\"text-align: right;\">\n",
       "      <th></th>\n",
       "      <th>00</th>\n",
       "      <th>000</th>\n",
       "      <th>047000</th>\n",
       "      <th>09</th>\n",
       "      <th>10</th>\n",
       "      <th>100</th>\n",
       "      <th>100877300245414</th>\n",
       "      <th>11</th>\n",
       "      <th>12</th>\n",
       "      <th>1337</th>\n",
       "      <th>...</th>\n",
       "      <th>yourself</th>\n",
       "      <th>youtu</th>\n",
       "      <th>youtube</th>\n",
       "      <th>youtubers</th>\n",
       "      <th>ytma</th>\n",
       "      <th>yuliya</th>\n",
       "      <th>yuttx04oyqq</th>\n",
       "      <th>zesty</th>\n",
       "      <th>zip</th>\n",
       "      <th>zonepa</th>\n",
       "    </tr>\n",
       "  </thead>\n",
       "  <tbody>\n",
       "    <tr>\n",
       "      <th>0</th>\n",
       "      <td>0.0</td>\n",
       "      <td>0.0</td>\n",
       "      <td>0.0</td>\n",
       "      <td>0.0</td>\n",
       "      <td>0.0</td>\n",
       "      <td>0.0</td>\n",
       "      <td>0.0</td>\n",
       "      <td>0.0</td>\n",
       "      <td>0.0</td>\n",
       "      <td>0.0</td>\n",
       "      <td>...</td>\n",
       "      <td>0.0</td>\n",
       "      <td>0.0</td>\n",
       "      <td>0.0</td>\n",
       "      <td>0.0</td>\n",
       "      <td>0.0</td>\n",
       "      <td>0.0</td>\n",
       "      <td>0.0</td>\n",
       "      <td>0.0</td>\n",
       "      <td>0.0</td>\n",
       "      <td>0.0</td>\n",
       "    </tr>\n",
       "    <tr>\n",
       "      <th>1</th>\n",
       "      <td>0.0</td>\n",
       "      <td>0.0</td>\n",
       "      <td>0.0</td>\n",
       "      <td>0.0</td>\n",
       "      <td>0.0</td>\n",
       "      <td>0.0</td>\n",
       "      <td>0.0</td>\n",
       "      <td>0.0</td>\n",
       "      <td>0.0</td>\n",
       "      <td>0.0</td>\n",
       "      <td>...</td>\n",
       "      <td>0.0</td>\n",
       "      <td>0.0</td>\n",
       "      <td>0.0</td>\n",
       "      <td>0.0</td>\n",
       "      <td>0.0</td>\n",
       "      <td>0.0</td>\n",
       "      <td>0.0</td>\n",
       "      <td>0.0</td>\n",
       "      <td>0.0</td>\n",
       "      <td>0.0</td>\n",
       "    </tr>\n",
       "    <tr>\n",
       "      <th>2</th>\n",
       "      <td>0.0</td>\n",
       "      <td>0.0</td>\n",
       "      <td>0.0</td>\n",
       "      <td>0.0</td>\n",
       "      <td>0.0</td>\n",
       "      <td>0.0</td>\n",
       "      <td>0.0</td>\n",
       "      <td>0.0</td>\n",
       "      <td>0.0</td>\n",
       "      <td>0.0</td>\n",
       "      <td>...</td>\n",
       "      <td>0.0</td>\n",
       "      <td>0.0</td>\n",
       "      <td>0.0</td>\n",
       "      <td>0.0</td>\n",
       "      <td>0.0</td>\n",
       "      <td>0.0</td>\n",
       "      <td>0.0</td>\n",
       "      <td>0.0</td>\n",
       "      <td>0.0</td>\n",
       "      <td>0.0</td>\n",
       "    </tr>\n",
       "  </tbody>\n",
       "</table>\n",
       "<p>3 rows × 1414 columns</p>\n",
       "</div>"
      ],
      "text/plain": [
       "    00  000  047000   09   10  100  100877300245414   11   12  1337  ...  \\\n",
       "0  0.0  0.0     0.0  0.0  0.0  0.0              0.0  0.0  0.0   0.0  ...   \n",
       "1  0.0  0.0     0.0  0.0  0.0  0.0              0.0  0.0  0.0   0.0  ...   \n",
       "2  0.0  0.0     0.0  0.0  0.0  0.0              0.0  0.0  0.0   0.0  ...   \n",
       "\n",
       "   yourself  youtu  youtube  youtubers  ytma  yuliya  yuttx04oyqq  zesty  zip  \\\n",
       "0       0.0    0.0      0.0        0.0   0.0     0.0          0.0    0.0  0.0   \n",
       "1       0.0    0.0      0.0        0.0   0.0     0.0          0.0    0.0  0.0   \n",
       "2       0.0    0.0      0.0        0.0   0.0     0.0          0.0    0.0  0.0   \n",
       "\n",
       "   zonepa  \n",
       "0     0.0  \n",
       "1     0.0  \n",
       "2     0.0  \n",
       "\n",
       "[3 rows x 1414 columns]"
      ]
     },
     "execution_count": 17,
     "metadata": {},
     "output_type": "execute_result"
    }
   ],
   "source": [
    "X_test_tfidf.head(3)"
   ]
  },
  {
   "cell_type": "code",
   "execution_count": 18,
   "metadata": {},
   "outputs": [],
   "source": [
    "#X_train = vectorizer.fit_transform(train_set['CONTENT'])\n",
    "#X_train = pd.DataFrame(X_train.toarray())\n",
    "#X_train.columns = vectorizer.get_feature_names()"
   ]
  },
  {
   "cell_type": "code",
   "execution_count": 19,
   "metadata": {},
   "outputs": [],
   "source": [
    "#X_test = vectorizer.fit_transform(test_set['CONTENT'])\n",
    "#X_test = pd.DataFrame(X_test.toarray())\n",
    "#X_test.columns = vectorizer.get_feature_names()"
   ]
  },
  {
   "cell_type": "markdown",
   "metadata": {},
   "source": [
    "# D(i) -> (iii)"
   ]
  },
  {
   "cell_type": "code",
   "execution_count": 67,
   "metadata": {},
   "outputs": [
    {
     "name": "stdout",
     "output_type": "stream",
     "text": [
      "C- [1e-05, 0.0001, 0.001, 0.01, 0.1, 1, 10, 100, 1000, 10000, 100000]\n",
      "Best C-: 10\n"
     ]
    },
    {
     "data": {
      "text/plain": [
       "array([1, 1, 1, 1, 1, 1, 1, 1, 1, 1, 1, 1, 1, 1, 1, 1, 1, 1, 1, 1, 1, 1,\n",
       "       1, 1, 1, 1, 1, 1, 1, 1, 1, 1, 1, 1, 1, 1, 1, 1, 1, 1, 1, 1, 1, 1,\n",
       "       1, 1, 1, 1, 1, 1, 1, 1, 1, 1, 1, 1, 1, 1, 1, 1, 1, 1, 1, 1, 1, 1,\n",
       "       1, 1, 1, 1, 1, 1, 1, 1, 1, 1, 1, 1, 1, 1, 1, 1, 1, 1, 1, 1, 1, 1,\n",
       "       1, 1, 1, 1, 1, 1, 1, 1, 1, 1, 1, 1, 1, 1, 1, 1, 1, 1, 1, 1, 1, 1,\n",
       "       1, 1, 1, 1, 1, 1, 1, 1, 1, 1, 1, 1, 1, 1, 1, 1, 1, 1, 1, 1, 1, 1,\n",
       "       1, 1, 1, 1, 1, 1, 1, 1, 1, 1, 1, 1, 1, 1, 1, 1, 1, 1, 1, 1, 1, 1,\n",
       "       1, 1, 1, 1, 1, 1, 1, 1, 1, 1, 1, 1, 1, 1, 1, 1, 1, 1, 1, 1, 1, 1,\n",
       "       1, 1, 1, 1, 1, 1, 1, 1, 1, 1, 1, 1, 1, 1, 1, 1, 1, 1, 1, 1, 0, 0,\n",
       "       0, 0, 0, 0, 0, 0, 0, 0, 0, 0, 0, 0, 0, 0, 0, 0, 0, 0, 0, 0, 0, 0,\n",
       "       0, 0, 0, 0, 0, 0, 0, 0, 0, 0, 0, 0, 0, 0, 0, 0, 0, 0, 0, 0, 0, 0,\n",
       "       0, 0, 0, 0, 0, 0, 0, 0, 0, 0, 0, 0, 0, 0, 0, 0, 0, 0, 0, 0, 0, 0,\n",
       "       0, 0, 0, 0, 0, 0, 0, 0, 0, 0, 0, 0, 0, 0, 0, 0, 0, 0, 0, 0, 0, 0,\n",
       "       0, 0, 0, 0, 0, 0, 0, 0, 0, 0, 0, 0, 0, 0, 0, 0, 0, 0, 0, 0, 0, 0,\n",
       "       0, 0, 0, 0, 0, 0, 0, 0, 0, 0, 0, 0, 0, 0, 0, 0, 0, 0, 0, 0, 0, 0,\n",
       "       0, 0, 0, 0, 0, 0, 0, 0, 0, 0, 0, 0, 0, 0, 0, 0, 0, 0, 0, 0, 0, 0,\n",
       "       0, 0, 0, 0, 0, 0, 0])"
      ]
     },
     "execution_count": 67,
     "metadata": {},
     "output_type": "execute_result"
    }
   ],
   "source": [
    "lr = LogisiticRegression()\n",
    "\n",
    "c = [pow(10,i) for i in range(-5,6)]\n",
    "penalty = ['l2']\n",
    "print(\"C-\",c)\n",
    "\n",
    "parameters = {'C': c,\n",
    "             'penalty': penalty,\n",
    "             'solver': ['lbfgs']}\n",
    "\n",
    "\n",
    "gridcv = GridSearchCV(lr, parameters, cv =5 )\n",
    "\n",
    "best_model = gridcv.fit(X_train_tfidf,y_train)\n",
    "\n",
    "print('Best C-:', best_model.best_estimator_.get_params()['C'])\n",
    "\n",
    "best_model.predict(X_train_tfidf)"
   ]
  },
  {
   "cell_type": "markdown",
   "metadata": {},
   "source": [
    "# Train Set"
   ]
  },
  {
   "cell_type": "code",
   "execution_count": 26,
   "metadata": {},
   "outputs": [
    {
     "data": {
      "text/plain": [
       "LogisticRegression()"
      ]
     },
     "execution_count": 26,
     "metadata": {},
     "output_type": "execute_result"
    }
   ],
   "source": [
    "lr.fit(X_train_tfidf, y_train)"
   ]
  },
  {
   "cell_type": "code",
   "execution_count": 41,
   "metadata": {},
   "outputs": [
    {
     "name": "stdout",
     "output_type": "stream",
     "text": [
      "[[163   0]\n",
      " [  0 196]]\n"
     ]
    }
   ],
   "source": [
    "pred = best_model.predict(X_train_tfidf) #lr.predict(X_train_tfidf)\n",
    "cm = confusion_matrix(y_train,pred)\n",
    "print(cm)"
   ]
  },
  {
   "cell_type": "code",
   "execution_count": 42,
   "metadata": {},
   "outputs": [
    {
     "name": "stdout",
     "output_type": "stream",
     "text": [
      "              precision    recall  f1-score   support\n",
      "\n",
      "           0       1.00      1.00      1.00       163\n",
      "           1       1.00      1.00      1.00       196\n",
      "\n",
      "    accuracy                           1.00       359\n",
      "   macro avg       1.00      1.00      1.00       359\n",
      "weighted avg       1.00      1.00      1.00       359\n",
      "\n"
     ]
    }
   ],
   "source": [
    "print(classification_report(y_train, pred))"
   ]
  },
  {
   "cell_type": "code",
   "execution_count": 45,
   "metadata": {},
   "outputs": [],
   "source": [
    "probas = best_model.predict_proba(X_train_tfidf)[:, 1]"
   ]
  },
  {
   "cell_type": "code",
   "execution_count": 46,
   "metadata": {},
   "outputs": [],
   "source": [
    "fpr, tpr, _ = roc_curve(y_train, pred.reshape(-1,1), pos_label = 1)\n",
    "logit_roc_auc = roc_auc_score(y_train, pred.reshape(-1,1))"
   ]
  },
  {
   "cell_type": "code",
   "execution_count": 47,
   "metadata": {},
   "outputs": [
    {
     "data": {
      "image/png": "[encoded data removed]",
      "text/plain": [
       "<Figure size 864x576 with 1 Axes>"
      ]
     },
     "metadata": {
      "needs_background": "light"
     },
     "output_type": "display_data"
    }
   ],
   "source": [
    "plt.figure(figsize = (12,8))\n",
    "plt.plot(fpr,tpr, label = 'Logisitic Regression area = %0.2f'% logit_roc_auc)\n",
    "plt.plot([0,1],[0,1],'r--')\n",
    "plt.ylabel(\"true positive rate\")\n",
    "plt.xlabel(\"false positive rate\")\n",
    "plt.title(\"ROC curve\")\n",
    "plt.legend(loc = \"lower right\")\n",
    "plt.show()"
   ]
  },
  {
   "cell_type": "markdown",
   "metadata": {},
   "source": [
    "# Test Set"
   ]
  },
  {
   "cell_type": "code",
   "execution_count": 49,
   "metadata": {},
   "outputs": [
    {
     "name": "stdout",
     "output_type": "stream",
     "text": [
      "0.9775280898876404\n"
     ]
    }
   ],
   "source": [
    "pred = best_model.predict(X_test_tfidf)\n",
    "print(metrics.accuracy_score(y_test,pred))"
   ]
  },
  {
   "cell_type": "code",
   "execution_count": 50,
   "metadata": {},
   "outputs": [
    {
     "data": {
      "text/plain": [
       "(89, 1414)"
      ]
     },
     "execution_count": 50,
     "metadata": {},
     "output_type": "execute_result"
    }
   ],
   "source": [
    "X_test_tfidf.shape"
   ]
  },
  {
   "cell_type": "code",
   "execution_count": 51,
   "metadata": {},
   "outputs": [
    {
     "name": "stdout",
     "output_type": "stream",
     "text": [
      "[[39  1]\n",
      " [ 1 48]]\n"
     ]
    }
   ],
   "source": [
    "cm = confusion_matrix(y_test,pred)\n",
    "print(cm)"
   ]
  },
  {
   "cell_type": "code",
   "execution_count": 52,
   "metadata": {},
   "outputs": [
    {
     "name": "stdout",
     "output_type": "stream",
     "text": [
      "              precision    recall  f1-score   support\n",
      "\n",
      "           0       0.97      0.97      0.97        40\n",
      "           1       0.98      0.98      0.98        49\n",
      "\n",
      "    accuracy                           0.98        89\n",
      "   macro avg       0.98      0.98      0.98        89\n",
      "weighted avg       0.98      0.98      0.98        89\n",
      "\n"
     ]
    }
   ],
   "source": [
    "print(classification_report(y_test, pred))"
   ]
  },
  {
   "cell_type": "code",
   "execution_count": 53,
   "metadata": {},
   "outputs": [
    {
     "data": {
      "image/png": "[encoded data removed]",
      "text/plain": [
       "<Figure size 864x576 with 1 Axes>"
      ]
     },
     "metadata": {
      "needs_background": "light"
     },
     "output_type": "display_data"
    }
   ],
   "source": [
    "fpr, tpr, _ = roc_curve(y_test, pred.reshape(-1,1), pos_label = 1)\n",
    "logit_roc_auc = roc_auc_score(y_test, pred.reshape(-1,1))\n",
    "plt.figure(figsize = (12,8))\n",
    "plt.plot(fpr,tpr, label = 'Logisitic Regression area = %0.2f'% logit_roc_auc)\n",
    "plt.plot([0,1],[0,1],'r--')\n",
    "plt.ylabel(\"true positive rate\")\n",
    "plt.xlabel(\"false positive rate\")\n",
    "plt.title(\"ROC curve\")\n",
    "plt.legend(loc = \"lower right\")\n",
    "plt.show()"
   ]
  },
  {
   "cell_type": "code",
   "execution_count": 54,
   "metadata": {},
   "outputs": [
    {
     "name": "stdout",
     "output_type": "stream",
     "text": [
      "[0.9795918367346939, 0.979591836734694, 0.9795918367346939, 0.9795918367346939, 0.9795918367346939, 0.9795918367346939]\n"
     ]
    }
   ],
   "source": [
    "from sklearn.metrics import fbeta_score\n",
    "\n",
    "beta_vals = [.1,.5,.9,1,5,10]\n",
    "\n",
    "print([fbeta_score(y_test,pred, beta=i) for i in beta_vals])"
   ]
  },
  {
   "cell_type": "markdown",
   "metadata": {},
   "source": [
    "# E(i) -> (iii)"
   ]
  },
  {
   "cell_type": "code",
   "execution_count": 56,
   "metadata": {},
   "outputs": [
    {
     "name": "stdout",
     "output_type": "stream",
     "text": [
      "C- [1e-05, 0.0001, 0.001, 0.01, 0.1, 1, 10, 100, 1000, 10000, 100000]\n",
      "Best C-: 1000\n"
     ]
    },
    {
     "data": {
      "text/plain": [
       "array([1, 1, 1, 1, 1, 1, 1, 1, 1, 1, 1, 1, 1, 1, 1, 1, 1, 1, 1, 1, 1, 1,\n",
       "       1, 1, 1, 1, 1, 1, 1, 1, 1, 1, 1, 1, 1, 1, 1, 1, 1, 1, 1, 1, 1, 1,\n",
       "       1, 1, 1, 1, 1, 1, 1, 1, 1, 1, 1, 1, 1, 1, 1, 1, 1, 1, 1, 1, 1, 1,\n",
       "       1, 1, 1, 1, 1, 1, 1, 1, 1, 1, 1, 1, 1, 1, 1, 1, 1, 1, 1, 1, 1, 1,\n",
       "       1, 1, 1, 1, 1, 1, 1, 1, 1, 1, 1, 1, 1, 1, 1, 1, 1, 1, 1, 1, 1, 1,\n",
       "       1, 1, 1, 1, 1, 1, 1, 1, 1, 1, 1, 1, 1, 1, 1, 1, 1, 1, 1, 1, 1, 1,\n",
       "       1, 1, 1, 1, 1, 1, 1, 1, 1, 1, 1, 1, 1, 1, 1, 1, 1, 1, 1, 1, 1, 1,\n",
       "       1, 1, 1, 1, 1, 1, 1, 1, 1, 1, 1, 1, 1, 1, 1, 1, 1, 1, 1, 1, 1, 1,\n",
       "       1, 1, 1, 1, 1, 1, 1, 1, 1, 1, 1, 1, 1, 1, 1, 1, 1, 1, 1, 1, 0, 0,\n",
       "       0, 0, 0, 0, 0, 0, 0, 0, 0, 0, 0, 0, 0, 0, 0, 0, 0, 0, 0, 0, 0, 0,\n",
       "       0, 0, 0, 0, 0, 0, 0, 0, 0, 0, 0, 0, 0, 0, 0, 0, 0, 0, 0, 0, 0, 0,\n",
       "       0, 0, 0, 0, 0, 0, 0, 0, 0, 0, 0, 0, 0, 0, 0, 0, 0, 0, 0, 0, 0, 0,\n",
       "       0, 0, 0, 0, 0, 0, 0, 0, 0, 0, 0, 0, 0, 0, 0, 0, 0, 0, 0, 0, 0, 0,\n",
       "       0, 0, 0, 0, 0, 0, 0, 0, 0, 0, 0, 0, 0, 0, 0, 0, 0, 0, 0, 0, 0, 0,\n",
       "       0, 0, 0, 0, 0, 0, 0, 0, 0, 0, 0, 0, 0, 0, 0, 0, 0, 0, 0, 0, 0, 0,\n",
       "       0, 0, 0, 0, 0, 0, 0, 0, 0, 0, 0, 0, 0, 0, 0, 0, 0, 0, 0, 0, 0, 0,\n",
       "       0, 0, 0, 0, 0, 0, 0])"
      ]
     },
     "execution_count": 56,
     "metadata": {},
     "output_type": "execute_result"
    }
   ],
   "source": [
    "lr = LogisticRegression()\n",
    "\n",
    "\n",
    "c = [pow(10,i) for i in range(-5,6)]\n",
    "penalty = ['l1']\n",
    "print(\"C-\",c)\n",
    "\n",
    "parameters = {'C': c,\n",
    "             'penalty': penalty,\n",
    "             'solver': ['liblinear']}\n",
    "\n",
    "\n",
    "gridcv = GridSearchCV(lr, parameters, cv =5 )\n",
    "\n",
    "best_model = gridcv.fit(X_train_tfidf,y_train)\n",
    "\n",
    "print('Best C-:', best_model.best_estimator_.get_params()['C'])\n",
    "\n",
    "best_model.predict(X_train_tfidf)"
   ]
  },
  {
   "cell_type": "markdown",
   "metadata": {},
   "source": [
    "# Train Set"
   ]
  },
  {
   "cell_type": "code",
   "execution_count": 57,
   "metadata": {},
   "outputs": [
    {
     "name": "stdout",
     "output_type": "stream",
     "text": [
      "1.0\n"
     ]
    }
   ],
   "source": [
    "pred = best_model.predict(X_train_tfidf)\n",
    "print(metrics.accuracy_score(y_train,pred))"
   ]
  },
  {
   "cell_type": "code",
   "execution_count": 58,
   "metadata": {},
   "outputs": [
    {
     "name": "stdout",
     "output_type": "stream",
     "text": [
      "[[163   0]\n",
      " [  0 196]]\n"
     ]
    }
   ],
   "source": [
    "cm = confusion_matrix(y_train,pred)\n",
    "print(cm)"
   ]
  },
  {
   "cell_type": "code",
   "execution_count": 59,
   "metadata": {},
   "outputs": [
    {
     "name": "stdout",
     "output_type": "stream",
     "text": [
      "              precision    recall  f1-score   support\n",
      "\n",
      "           0       1.00      1.00      1.00       163\n",
      "           1       1.00      1.00      1.00       196\n",
      "\n",
      "    accuracy                           1.00       359\n",
      "   macro avg       1.00      1.00      1.00       359\n",
      "weighted avg       1.00      1.00      1.00       359\n",
      "\n"
     ]
    }
   ],
   "source": [
    "print(classification_report(y_train, pred))"
   ]
  },
  {
   "cell_type": "code",
   "execution_count": 60,
   "metadata": {},
   "outputs": [
    {
     "data": {
      "image/png": "[encoded data removed]",
      "text/plain": [
       "<Figure size 864x576 with 1 Axes>"
      ]
     },
     "metadata": {
      "needs_background": "light"
     },
     "output_type": "display_data"
    }
   ],
   "source": [
    "fpr, tpr, _ = roc_curve(y_train, pred.reshape(-1,1), pos_label = 1)\n",
    "logit_roc_auc = roc_auc_score(y_train, pred.reshape(-1,1))\n",
    "\n",
    "\n",
    "plt.figure(figsize = (12,8))\n",
    "plt.plot(fpr,tpr, label = 'Logisitic Regression area = %0.2f'% logit_roc_auc)\n",
    "plt.plot([0,1],[0,1],'r--')\n",
    "plt.ylabel(\"true positive rate\")\n",
    "plt.xlabel(\"false positive rate\")\n",
    "plt.title(\"ROC curve\")\n",
    "plt.legend(loc = \"lower right\")\n",
    "plt.show()\n"
   ]
  },
  {
   "cell_type": "markdown",
   "metadata": {},
   "source": [
    "# Test set"
   ]
  },
  {
   "cell_type": "code",
   "execution_count": 61,
   "metadata": {},
   "outputs": [
    {
     "name": "stdout",
     "output_type": "stream",
     "text": [
      "0.9662921348314607\n"
     ]
    }
   ],
   "source": [
    "pred = best_model.predict(X_test_tfidf)\n",
    "print(metrics.accuracy_score(y_test,pred))"
   ]
  },
  {
   "cell_type": "code",
   "execution_count": 62,
   "metadata": {},
   "outputs": [
    {
     "name": "stdout",
     "output_type": "stream",
     "text": [
      "[[40  0]\n",
      " [ 3 46]]\n"
     ]
    }
   ],
   "source": [
    "cm = confusion_matrix(y_test,pred)\n",
    "print(cm)"
   ]
  },
  {
   "cell_type": "code",
   "execution_count": 63,
   "metadata": {},
   "outputs": [
    {
     "name": "stdout",
     "output_type": "stream",
     "text": [
      "              precision    recall  f1-score   support\n",
      "\n",
      "           0       0.93      1.00      0.96        40\n",
      "           1       1.00      0.94      0.97        49\n",
      "\n",
      "    accuracy                           0.97        89\n",
      "   macro avg       0.97      0.97      0.97        89\n",
      "weighted avg       0.97      0.97      0.97        89\n",
      "\n"
     ]
    }
   ],
   "source": [
    "print(classification_report(y_test, pred))"
   ]
  },
  {
   "cell_type": "code",
   "execution_count": 64,
   "metadata": {},
   "outputs": [
    {
     "data": {
      "image/png": "[encoded data removed]",
      "text/plain": [
       "<Figure size 864x576 with 1 Axes>"
      ]
     },
     "metadata": {
      "needs_background": "light"
     },
     "output_type": "display_data"
    }
   ],
   "source": [
    "fpr, tpr, _ = roc_curve(y_test, pred.reshape(-1,1), pos_label = 1)\n",
    "logit_roc_auc = roc_auc_score(y_test, pred.reshape(-1,1))\n",
    "plt.figure(figsize = (12,8))\n",
    "plt.plot(fpr,tpr, label = 'Logisitic Regression area = %0.2f'% logit_roc_auc)\n",
    "plt.plot([0,1],[0,1],'r--')\n",
    "plt.ylabel(\"true positive rate\")\n",
    "plt.xlabel(\"false positive rate\")\n",
    "plt.title(\"ROC curve\")\n",
    "plt.legend(loc = \"lower right\")\n",
    "plt.show()"
   ]
  },
  {
   "cell_type": "markdown",
   "metadata": {},
   "source": [
    "# F(i)"
   ]
  },
  {
   "cell_type": "code",
   "execution_count": 68,
   "metadata": {},
   "outputs": [],
   "source": [
    "from sklearn.naive_bayes import GaussianNB"
   ]
  },
  {
   "cell_type": "markdown",
   "metadata": {},
   "source": [
    "# Train Set"
   ]
  },
  {
   "cell_type": "code",
   "execution_count": 78,
   "metadata": {},
   "outputs": [
    {
     "data": {
      "text/plain": [
       "GaussianNB()"
      ]
     },
     "execution_count": 78,
     "metadata": {},
     "output_type": "execute_result"
    }
   ],
   "source": [
    "gnb = GaussianNB()\n",
    "\n",
    "gnb.fit(X_train_tfidf,y_train)"
   ]
  },
  {
   "cell_type": "code",
   "execution_count": 79,
   "metadata": {},
   "outputs": [
    {
     "name": "stdout",
     "output_type": "stream",
     "text": [
      "0.9972144846796658\n"
     ]
    }
   ],
   "source": [
    "gnb_pred = gnb.predict(X_train_tfidf)\n",
    "print(metrics.accuracy_score(y_train,gnb_pred))"
   ]
  },
  {
   "cell_type": "code",
   "execution_count": 80,
   "metadata": {},
   "outputs": [
    {
     "name": "stdout",
     "output_type": "stream",
     "text": [
      "[[163   0]\n",
      " [  1 195]]\n"
     ]
    }
   ],
   "source": [
    "cm = confusion_matrix(y_train,gnb_pred)\n",
    "print(cm)"
   ]
  },
  {
   "cell_type": "code",
   "execution_count": 81,
   "metadata": {},
   "outputs": [
    {
     "name": "stdout",
     "output_type": "stream",
     "text": [
      "              precision    recall  f1-score   support\n",
      "\n",
      "           0       0.99      1.00      1.00       163\n",
      "           1       1.00      0.99      1.00       196\n",
      "\n",
      "    accuracy                           1.00       359\n",
      "   macro avg       1.00      1.00      1.00       359\n",
      "weighted avg       1.00      1.00      1.00       359\n",
      "\n"
     ]
    }
   ],
   "source": [
    "print(classification_report(y_train, gnb_pred))"
   ]
  },
  {
   "cell_type": "code",
   "execution_count": 82,
   "metadata": {},
   "outputs": [
    {
     "data": {
      "image/png": "[encoded data removed]",
      "text/plain": [
       "<Figure size 864x576 with 1 Axes>"
      ]
     },
     "metadata": {
      "needs_background": "light"
     },
     "output_type": "display_data"
    }
   ],
   "source": [
    "fpr, tpr, _ = roc_curve(y_train, gnb_pred.reshape(-1,1), pos_label = 1)\n",
    "logit_roc_auc = roc_auc_score(y_train, gnb_pred.reshape(-1,1))\n",
    "\n",
    "plt.figure(figsize = (12,8))\n",
    "plt.plot(fpr,tpr, label = 'Logisitic Regression area = %0.2f'% logit_roc_auc)\n",
    "plt.plot([0,1],[0,1],'r--')\n",
    "plt.ylabel(\"true positive rate\")\n",
    "plt.xlabel(\"false positive rate\")\n",
    "plt.title(\"ROC curve\")\n",
    "plt.legend(loc = \"lower right\")\n",
    "plt.show()"
   ]
  },
  {
   "cell_type": "markdown",
   "metadata": {},
   "source": [
    "# Test Set"
   ]
  },
  {
   "cell_type": "code",
   "execution_count": 83,
   "metadata": {},
   "outputs": [
    {
     "name": "stdout",
     "output_type": "stream",
     "text": [
      "0.9213483146067416\n"
     ]
    }
   ],
   "source": [
    "gnb_pred = gnb.predict(X_test_tfidf)\n",
    "print(metrics.accuracy_score(y_test,gnb_pred))"
   ]
  },
  {
   "cell_type": "code",
   "execution_count": 85,
   "metadata": {},
   "outputs": [
    {
     "name": "stdout",
     "output_type": "stream",
     "text": [
      "[[34  6]\n",
      " [ 1 48]]\n"
     ]
    }
   ],
   "source": [
    "cm = confusion_matrix(y_test,gnb_pred)\n",
    "print(cm)"
   ]
  },
  {
   "cell_type": "code",
   "execution_count": 87,
   "metadata": {},
   "outputs": [
    {
     "name": "stdout",
     "output_type": "stream",
     "text": [
      "              precision    recall  f1-score   support\n",
      "\n",
      "           0       0.97      0.85      0.91        40\n",
      "           1       0.89      0.98      0.93        49\n",
      "\n",
      "    accuracy                           0.92        89\n",
      "   macro avg       0.93      0.91      0.92        89\n",
      "weighted avg       0.93      0.92      0.92        89\n",
      "\n"
     ]
    }
   ],
   "source": [
    "print(classification_report(y_test, gnb_pred))"
   ]
  },
  {
   "cell_type": "code",
   "execution_count": 88,
   "metadata": {},
   "outputs": [
    {
     "data": {
      "image/png": "[encoded data removed]",
      "text/plain": [
       "<Figure size 864x576 with 1 Axes>"
      ]
     },
     "metadata": {
      "needs_background": "light"
     },
     "output_type": "display_data"
    }
   ],
   "source": [
    "fpr, tpr, _ = roc_curve(y_test, pred.reshape(-1,1), pos_label = 1)\n",
    "logit_roc_auc = roc_auc_score(y_test, pred.reshape(-1,1))\n",
    "plt.figure(figsize = (12,8))\n",
    "plt.plot(fpr,tpr, label = 'Logisitic Regression area = %0.2f'% logit_roc_auc)\n",
    "plt.plot([0,1],[0,1],'r--')\n",
    "plt.ylabel(\"true positive rate\")\n",
    "plt.xlabel(\"false positive rate\")\n",
    "plt.title(\"ROC curve\")\n",
    "plt.legend(loc = \"lower right\")\n",
    "plt.show()"
   ]
  },
  {
   "cell_type": "markdown",
   "metadata": {},
   "source": [
    "# Extra Credit \n",
    "\n",
    "## (G)"
   ]
  },
  {
   "cell_type": "code",
   "execution_count": 89,
   "metadata": {},
   "outputs": [],
   "source": [
    "from sklearn.naive_bayes import MultinomialNB"
   ]
  },
  {
   "cell_type": "markdown",
   "metadata": {},
   "source": [
    "# Train Set"
   ]
  },
  {
   "cell_type": "code",
   "execution_count": 90,
   "metadata": {},
   "outputs": [
    {
     "data": {
      "text/plain": [
       "MultinomialNB()"
      ]
     },
     "execution_count": 90,
     "metadata": {},
     "output_type": "execute_result"
    }
   ],
   "source": [
    "clf = MultinomialNB()\n",
    "clf.fit(X_train_tfidf,y_train)"
   ]
  },
  {
   "cell_type": "code",
   "execution_count": 91,
   "metadata": {},
   "outputs": [
    {
     "name": "stdout",
     "output_type": "stream",
     "text": [
      "0.9777158774373259\n"
     ]
    }
   ],
   "source": [
    "clf_pred = clf.predict(X_train_tfidf)\n",
    "print(metrics.accuracy_score(y_train,clf_pred))"
   ]
  },
  {
   "cell_type": "code",
   "execution_count": 92,
   "metadata": {},
   "outputs": [
    {
     "name": "stdout",
     "output_type": "stream",
     "text": [
      "[[156   7]\n",
      " [  1 195]]\n"
     ]
    }
   ],
   "source": [
    "cm = confusion_matrix(y_train,clf_pred)\n",
    "print(cm)"
   ]
  },
  {
   "cell_type": "code",
   "execution_count": 93,
   "metadata": {},
   "outputs": [
    {
     "name": "stdout",
     "output_type": "stream",
     "text": [
      "              precision    recall  f1-score   support\n",
      "\n",
      "           0       0.99      0.96      0.97       163\n",
      "           1       0.97      0.99      0.98       196\n",
      "\n",
      "    accuracy                           0.98       359\n",
      "   macro avg       0.98      0.98      0.98       359\n",
      "weighted avg       0.98      0.98      0.98       359\n",
      "\n"
     ]
    }
   ],
   "source": [
    "print(classification_report(y_train, clf_pred))"
   ]
  },
  {
   "cell_type": "code",
   "execution_count": 94,
   "metadata": {},
   "outputs": [
    {
     "data": {
      "image/png": "[encoded data removed]",
      "text/plain": [
       "<Figure size 864x576 with 1 Axes>"
      ]
     },
     "metadata": {
      "needs_background": "light"
     },
     "output_type": "display_data"
    }
   ],
   "source": [
    "fpr, tpr, _ = roc_curve(y_train, clf_pred.reshape(-1,1), pos_label = 1)\n",
    "logit_roc_auc = roc_auc_score(y_train, clf_pred.reshape(-1,1))\n",
    "\n",
    "plt.figure(figsize = (12,8))\n",
    "plt.plot(fpr,tpr, label = 'Logisitic Regression area = %0.2f'% logit_roc_auc)\n",
    "plt.plot([0,1],[0,1],'r--')\n",
    "plt.ylabel(\"true positive rate\")\n",
    "plt.xlabel(\"false positive rate\")\n",
    "plt.title(\"ROC curve\")\n",
    "plt.legend(loc = \"lower right\")\n",
    "plt.show()"
   ]
  },
  {
   "cell_type": "markdown",
   "metadata": {},
   "source": [
    "# Test Set"
   ]
  },
  {
   "cell_type": "code",
   "execution_count": 95,
   "metadata": {},
   "outputs": [
    {
     "name": "stdout",
     "output_type": "stream",
     "text": [
      "0.898876404494382\n"
     ]
    }
   ],
   "source": [
    "clf_pred = clf.predict(X_test_tfidf)\n",
    "print(metrics.accuracy_score(y_test,clf_pred))"
   ]
  },
  {
   "cell_type": "code",
   "execution_count": 96,
   "metadata": {},
   "outputs": [
    {
     "name": "stdout",
     "output_type": "stream",
     "text": [
      "[[31  9]\n",
      " [ 0 49]]\n"
     ]
    }
   ],
   "source": [
    "cm = confusion_matrix(y_test,clf_pred)\n",
    "print(cm)"
   ]
  },
  {
   "cell_type": "code",
   "execution_count": 97,
   "metadata": {},
   "outputs": [
    {
     "name": "stdout",
     "output_type": "stream",
     "text": [
      "              precision    recall  f1-score   support\n",
      "\n",
      "           0       1.00      0.78      0.87        40\n",
      "           1       0.84      1.00      0.92        49\n",
      "\n",
      "    accuracy                           0.90        89\n",
      "   macro avg       0.92      0.89      0.89        89\n",
      "weighted avg       0.91      0.90      0.90        89\n",
      "\n"
     ]
    }
   ],
   "source": [
    "print(classification_report(y_test, clf_pred))"
   ]
  },
  {
   "cell_type": "code",
   "execution_count": 98,
   "metadata": {},
   "outputs": [
    {
     "data": {
      "image/png": "[encoded data removed]",
      "text/plain": [
       "<Figure size 864x576 with 1 Axes>"
      ]
     },
     "metadata": {
      "needs_background": "light"
     },
     "output_type": "display_data"
    }
   ],
   "source": [
    "fpr, tpr, _ = roc_curve(y_test, clf_pred.reshape(-1,1), pos_label = 1)\n",
    "logit_roc_auc = roc_auc_score(y_test, clf_pred.reshape(-1,1))\n",
    "\n",
    "plt.figure(figsize = (12,8))\n",
    "plt.plot(fpr,tpr, label = 'Logisitic Regression area = %0.2f'% logit_roc_auc)\n",
    "plt.plot([0,1],[0,1],'r--')\n",
    "plt.ylabel(\"true positive rate\")\n",
    "plt.xlabel(\"false positive rate\")\n",
    "plt.title(\"ROC curve\")\n",
    "plt.legend(loc = \"lower right\")\n",
    "plt.show()"
   ]
  },
  {
   "cell_type": "markdown",
   "metadata": {},
   "source": [
    "## (H)"
   ]
  },
  {
   "cell_type": "code",
   "execution_count": 99,
   "metadata": {},
   "outputs": [],
   "source": [
    "from glob import glob\n",
    "import os"
   ]
  },
  {
   "cell_type": "code",
   "execution_count": 112,
   "metadata": {},
   "outputs": [],
   "source": [
    "all_dfs = []\n",
    "all_csvs = []\n",
    "\n",
    "\n",
    "for i in os.listdir('/Users/zain/Downloads/YouTube-Spam-Collection-v1/'):\n",
    "    all_dfs.append(i)\n",
    "for i in all_dfs:\n",
    "    df_all = pd.read_csv(\"/Users/zain/Downloads/YouTube-Spam-Collection-v1/\"+i)\n",
    "    all_csvs.append(df_all)"
   ]
  },
  {
   "cell_type": "code",
   "execution_count": 115,
   "metadata": {},
   "outputs": [],
   "source": [
    "dfs = pd.concat(all_csvs)"
   ]
  },
  {
   "cell_type": "code",
   "execution_count": 116,
   "metadata": {},
   "outputs": [
    {
     "data": {
      "text/plain": [
       "['Youtube03-LMFAO.csv',\n",
       " 'Youtube04-Eminem.csv',\n",
       " 'Youtube05-Shakira.csv',\n",
       " 'Youtube02-KatyPerry.csv',\n",
       " 'Youtube01-Psy.csv']"
      ]
     },
     "execution_count": 116,
     "metadata": {},
     "output_type": "execute_result"
    }
   ],
   "source": [
    "all_dfs"
   ]
  },
  {
   "cell_type": "code",
   "execution_count": 232,
   "metadata": {},
   "outputs": [],
   "source": [
    "from sklearn.metrics import f1_score\n",
    "from sklearn.metrics import precision_score\n",
    "from sklearn.metrics import recall_score"
   ]
  },
  {
   "cell_type": "code",
   "execution_count": 398,
   "metadata": {},
   "outputs": [],
   "source": [
    "import math\n",
    "\n",
    "index_vals = ['NB-Gaussian','NB-Multinomial','L_1_Reg','L_2_Reg']\n",
    "\n",
    "precision_vals = []\n",
    "accuracy_vals = []\n",
    "f_1_vals = []\n",
    "recall_vals = []\n",
    "auc_vals = []\n",
    "\n",
    "\n",
    "class MyClass:\n",
    "    def __init__(self, my_dataframe):\n",
    "        self.my_dataframe = my_dataframe\n",
    "        self.length = my_dataframe.shape\n",
    "        self.lenght_0 = len(my_dataframe.loc[(df['CLASS'] == 0)])\n",
    "        self.lenght_1 = len(my_dataframe.loc[(df['CLASS'] == 1)])\n",
    "        self.Train_set = pd.concat([my_dataframe.loc[(my_dataframe['CLASS'] == 1)]\n",
    "                                    [0:math.floor(len(my_dataframe.loc[(df['CLASS'] == 1)]) *.80)],\n",
    "                                    my_dataframe.loc[(my_dataframe['CLASS'] == 0)]\n",
    "                                    [0:math.floor(len(my_dataframe.loc[(df['CLASS'] == 0)]) *.80)]])\n",
    "        \n",
    "        self.Test_set = pd.concat([my_dataframe.loc[(my_dataframe['CLASS'] == 1)]\n",
    "                                    [math.floor(len(my_dataframe.loc[(df['CLASS'] == 1)]) *.80):],\n",
    "                                    my_dataframe.loc[(my_dataframe['CLASS'] == 0)]\n",
    "                                    [math.floor(len(my_dataframe.loc[(df['CLASS'] == 0)]) *.80):]])\n",
    "        \n",
    "    def preview_df(self):\n",
    "        print(self.Train_set.shape, self.Test_set.shape)\n",
    "        \n",
    "    def gaussian_(self):\n",
    "        vectorizer.fit(self.Train_set['CONTENT'])\n",
    "        X_train_tfidf = vectorizer.transform(self.Train_set['CONTENT']).toarray()\n",
    "        X_test_tfidf = vectorizer.transform(self.Test_set['CONTENT']).toarray()\n",
    "        y_train = self.Train_set['CLASS']\n",
    "        y_test = self.Test_set['CLASS']\n",
    "        gnb = GaussianNB()\n",
    "        gnb.fit(X_train_tfidf,y_train)\n",
    "        gnb_pred = gnb.predict(X_test_tfidf)\n",
    "        f_1 = f1_score(y_test,gnb_pred)\n",
    "        recall = recall_score(y_test,gnb_pred)\n",
    "        precision = precision_score(y_test,gnb_pred)\n",
    "        logit_roc_auc = roc_auc_score(y_test, gnb_pred.reshape(-1,1))\n",
    "        precision_vals.append(precision)\n",
    "        auc_vals.append(logit_roc_auc)\n",
    "        recall_vals.append(recall)\n",
    "        f_1_vals.append(f_1)\n",
    "        accuracy_vals.append(metrics.accuracy_score(y_test,gnb_pred))\n",
    "        print(\"Accuracy_score: \",metrics.accuracy_score(y_test,gnb_pred))\n",
    "        print(\"F_1 score: \", f_1)\n",
    "        print(\"AUC score: \",logit_roc_auc)\n",
    "        print(\"Precision: \", precision)\n",
    "        print(\"Recall: \",recall )\n",
    "        \n",
    "        \n",
    "class MyClass_2:\n",
    "    def __init__(self, my_dataframe):\n",
    "        self.my_dataframe = my_dataframe\n",
    "        self.length = my_dataframe.shape\n",
    "        self.lenght_0 = len(my_dataframe.loc[(df['CLASS'] == 0)])\n",
    "        self.lenght_1 = len(my_dataframe.loc[(df['CLASS'] == 1)])\n",
    "        self.Train_set = pd.concat([my_dataframe.loc[(my_dataframe['CLASS'] == 1)]\n",
    "                                    [0:math.floor(len(my_dataframe.loc[(df['CLASS'] == 1)]) *.80)],\n",
    "                                    my_dataframe.loc[(my_dataframe['CLASS'] == 0)]\n",
    "                                    [0:math.floor(len(my_dataframe.loc[(df['CLASS'] == 0)]) *.80)]])\n",
    "        \n",
    "        self.Test_set = pd.concat([my_dataframe.loc[(my_dataframe['CLASS'] == 1)]\n",
    "                                    [math.floor(len(my_dataframe.loc[(df['CLASS'] == 1)]) *.80):],\n",
    "                                    my_dataframe.loc[(my_dataframe['CLASS'] == 0)]\n",
    "                                    [math.floor(len(my_dataframe.loc[(df['CLASS'] == 0)]) *.80):]])\n",
    "        \n",
    "    def preview_df(self):\n",
    "        print(self.Train_set.shape, self.Test_set.shape)\n",
    "        \n",
    "    def Multinom_(self):\n",
    "        vectorizer.fit(self.Train_set['CONTENT'])\n",
    "        X_train_tfidf = vectorizer.transform(self.Train_set['CONTENT']).toarray()\n",
    "        X_test_tfidf = vectorizer.transform(self.Test_set['CONTENT']).toarray()\n",
    "        y_train = self.Train_set['CLASS']\n",
    "        y_test = self.Test_set['CLASS']\n",
    "        clf = MultinomialNB()\n",
    "        clf.fit(X_train_tfidf,y_train)\n",
    "        clf_pred = clf.predict(X_test_tfidf)\n",
    "        f_1 = f1_score(y_test,clf_pred)\n",
    "        recall = recall_score(y_test,clf_pred)\n",
    "        precision = precision_score(y_test,clf_pred)\n",
    "        logit_roc_auc = roc_auc_score(y_test, clf_pred.reshape(-1,1))\n",
    "        precision_vals.append(precision)\n",
    "        auc_vals.append(logit_roc_auc)\n",
    "        recall_vals.append(recall)\n",
    "        f_1_vals.append(f_1)\n",
    "        accuracy_vals.append(metrics.accuracy_score(y_test,clf_pred))\n",
    "        print(\"Accuracy_score: \",metrics.accuracy_score(y_test,clf_pred))\n",
    "        print(\"F_1 score: \", f_1)\n",
    "        print(\"AUC score: \",logit_roc_auc)\n",
    "        print(\"Precision: \", precision)\n",
    "        print(\"Recall: \",recall )\n",
    "        \n",
    "    \n",
    "    \n",
    "        \n",
    "class MyClass_3:\n",
    "    def __init__(self, my_dataframe):\n",
    "        self.my_dataframe = my_dataframe\n",
    "        self.length = my_dataframe.shape\n",
    "        self.lenght_0 = len(my_dataframe.loc[(df['CLASS'] == 0)])\n",
    "        self.lenght_1 = len(my_dataframe.loc[(df['CLASS'] == 1)])\n",
    "        self.Train_set = pd.concat([my_dataframe.loc[(my_dataframe['CLASS'] == 1)]\n",
    "                                    [0:math.floor(len(my_dataframe.loc[(df['CLASS'] == 1)]) *.80)],\n",
    "                                    my_dataframe.loc[(my_dataframe['CLASS'] == 0)]\n",
    "                                    [0:math.floor(len(my_dataframe.loc[(df['CLASS'] == 0)]) *.80)]])\n",
    "        \n",
    "        self.Test_set = pd.concat([my_dataframe.loc[(my_dataframe['CLASS'] == 1)]\n",
    "                                    [math.floor(len(my_dataframe.loc[(df['CLASS'] == 1)]) *.80):],\n",
    "                                    my_dataframe.loc[(my_dataframe['CLASS'] == 0)]\n",
    "                                    [math.floor(len(my_dataframe.loc[(df['CLASS'] == 0)]) *.80):]])\n",
    "        \n",
    "    def preview_df(self):\n",
    "        print(self.Train_set.shape, self.Test_set.shape)\n",
    "        \n",
    "    def L_1_Reg_(self):\n",
    "        vectorizer.fit(self.Train_set['CONTENT'])\n",
    "        X_train_tfidf = vectorizer.transform(self.Train_set['CONTENT']).toarray()\n",
    "        X_test_tfidf = vectorizer.transform(self.Test_set['CONTENT']).toarray()\n",
    "        y_train = self.Train_set['CLASS']\n",
    "        y_test = self.Test_set['CLASS']\n",
    "        lr = LogisticRegression(max_iter = 1000)\n",
    "        c = [pow(10,i) for i in range(-5,6)]\n",
    "        penalty = ['l1']\n",
    "        parameters = {'C': c,\n",
    "                     'penalty': penalty,\n",
    "                     'solver': ['liblinear']}\n",
    "        gridcv = GridSearchCV(lr, parameters, cv =5 )\n",
    "        best_model = gridcv.fit(X_train_tfidf,y_train)\n",
    "        pred = best_model.predict(X_test_tfidf)\n",
    "\n",
    "        f_1 = f1_score(y_test,pred)\n",
    "        recall = recall_score(y_test,pred)\n",
    "        precision = precision_score(y_test,pred)\n",
    "        logit_roc_auc = roc_auc_score(y_test, pred.reshape(-1,1))\n",
    "        precision_vals.append(precision)\n",
    "        auc_vals.append(logit_roc_auc)\n",
    "        recall_vals.append(recall)\n",
    "        f_1_vals.append(f_1)\n",
    "        accuracy_vals.append(metrics.accuracy_score(y_test,pred))\n",
    "        print(\"Accuracy_score: \",metrics.accuracy_score(y_test,pred))\n",
    "        print(\"F_1 score: \", f_1)\n",
    "        print(\"AUC score: \",logit_roc_auc)\n",
    "        print(\"Precision: \", precision)\n",
    "        print(\"Recall: \",recall )\n",
    "        \n",
    "        \n",
    "class MyClass_4:\n",
    "    def __init__(self, my_dataframe):\n",
    "        self.my_dataframe = my_dataframe\n",
    "        self.length = my_dataframe.shape\n",
    "        self.lenght_0 = len(my_dataframe.loc[(df['CLASS'] == 0)])\n",
    "        self.lenght_1 = len(my_dataframe.loc[(df['CLASS'] == 1)])\n",
    "        self.Train_set = pd.concat([my_dataframe.loc[(my_dataframe['CLASS'] == 1)]\n",
    "                                    [0:math.floor(len(my_dataframe.loc[(df['CLASS'] == 1)]) *.80)],\n",
    "                                    my_dataframe.loc[(my_dataframe['CLASS'] == 0)]\n",
    "                                    [0:math.floor(len(my_dataframe.loc[(df['CLASS'] == 0)]) *.80)]])\n",
    "        \n",
    "        self.Test_set = pd.concat([my_dataframe.loc[(my_dataframe['CLASS'] == 1)]\n",
    "                                    [math.floor(len(my_dataframe.loc[(df['CLASS'] == 1)]) *.80):],\n",
    "                                    my_dataframe.loc[(my_dataframe['CLASS'] == 0)]\n",
    "                                    [math.floor(len(my_dataframe.loc[(df['CLASS'] == 0)]) *.80):]])\n",
    "        \n",
    "    def preview_df(self):\n",
    "        print(self.Train_set.shape, self.Test_set.shape)\n",
    "        \n",
    "    def L_2_Reg_(self):\n",
    "        vectorizer.fit(self.Train_set['CONTENT'])\n",
    "        X_train_tfidf = vectorizer.transform(self.Train_set['CONTENT']).toarray()\n",
    "        X_test_tfidf = vectorizer.transform(self.Test_set['CONTENT']).toarray()\n",
    "        y_train = self.Train_set['CLASS']\n",
    "        y_test = self.Test_set['CLASS']\n",
    "        lr = LogisticRegression(max_iter = 1000)\n",
    "        c = [pow(10,i) for i in range(-5,6)]\n",
    "        penalty = ['l2']\n",
    "        parameters = {'C': c,\n",
    "                     'penalty': penalty,\n",
    "                     'solver': ['lbfgs']}\n",
    "        gridcv = GridSearchCV(lr, parameters, cv =5 )\n",
    "        best_model = gridcv.fit(X_train_tfidf,y_train)\n",
    "        pred = best_model.predict(X_test_tfidf)\n",
    "\n",
    "        f_1 = f1_score(y_test,pred)\n",
    "        recall = recall_score(y_test,pred)\n",
    "        precision = precision_score(y_test,pred)\n",
    "        logit_roc_auc = roc_auc_score(y_test, pred.reshape(-1,1))\n",
    "        precision_vals.append(precision)\n",
    "        auc_vals.append(logit_roc_auc)\n",
    "        recall_vals.append(recall)\n",
    "        f_1_vals.append(f_1)\n",
    "        accuracy_vals.append(metrics.accuracy_score(y_test,pred))\n",
    "        print(\"Accuracy_score: \",metrics.accuracy_score(y_test,pred))\n",
    "        print(\"F_1 score: \", f_1)\n",
    "        print(\"AUC score: \",logit_roc_auc)\n",
    "        print(\"Precision: \", precision)\n",
    "        print(\"Recall: \",recall )"
   ]
  },
  {
   "cell_type": "code",
   "execution_count": 399,
   "metadata": {
    "scrolled": false
   },
   "outputs": [
    {
     "name": "stdout",
     "output_type": "stream",
     "text": [
      "Accuracy_score:  0.8977272727272727\n",
      "F_1 score:  0.896551724137931\n",
      "AUC score:  0.8984496124031007\n",
      "Precision:  0.9285714285714286\n",
      "Recall:  0.8666666666666667\n",
      "Accuracy_score:  0.875\n",
      "F_1 score:  0.8842105263157894\n",
      "AUC score:  0.8736434108527131\n",
      "Precision:  0.84\n",
      "Recall:  0.9333333333333333\n",
      "Accuracy_score:  0.9772727272727273\n",
      "F_1 score:  0.9777777777777777\n",
      "AUC score:  0.9772609819121447\n",
      "Precision:  0.9777777777777777\n",
      "Recall:  0.9777777777777777\n",
      "Accuracy_score:  0.9431818181818182\n",
      "F_1 score:  0.9438202247191012\n",
      "AUC score:  0.9434108527131783\n",
      "Precision:  0.9545454545454546\n",
      "Recall:  0.9333333333333333\n",
      "\n",
      "\n",
      "\n",
      " Table below is for: \t LMFAO\n"
     ]
    },
    {
     "data": {
      "text/html": [
       "<style  type=\"text/css\" >\n",
       "#T_04785f50_98f8_11eb_8f41_1094bbed7d2erow2_col0,#T_04785f50_98f8_11eb_8f41_1094bbed7d2erow2_col1,#T_04785f50_98f8_11eb_8f41_1094bbed7d2erow2_col2,#T_04785f50_98f8_11eb_8f41_1094bbed7d2erow2_col3,#T_04785f50_98f8_11eb_8f41_1094bbed7d2erow2_col4{\n",
       "            background-color:  lightGreen;\n",
       "        }</style><table id=\"T_04785f50_98f8_11eb_8f41_1094bbed7d2e\" ><thead>    <tr>        <th class=\"blank level0\" ></th>        <th class=\"col_heading level0 col0\" >Precision</th>        <th class=\"col_heading level0 col1\" >Accuracy_score</th>        <th class=\"col_heading level0 col2\" >F_1_Score</th>        <th class=\"col_heading level0 col3\" >Recall_Score</th>        <th class=\"col_heading level0 col4\" >AUC_Score</th>    </tr></thead><tbody>\n",
       "                <tr>\n",
       "                        <th id=\"T_04785f50_98f8_11eb_8f41_1094bbed7d2elevel0_row0\" class=\"row_heading level0 row0\" >NB-Gaussian</th>\n",
       "                        <td id=\"T_04785f50_98f8_11eb_8f41_1094bbed7d2erow0_col0\" class=\"data row0 col0\" >0.928571</td>\n",
       "                        <td id=\"T_04785f50_98f8_11eb_8f41_1094bbed7d2erow0_col1\" class=\"data row0 col1\" >0.897727</td>\n",
       "                        <td id=\"T_04785f50_98f8_11eb_8f41_1094bbed7d2erow0_col2\" class=\"data row0 col2\" >0.896552</td>\n",
       "                        <td id=\"T_04785f50_98f8_11eb_8f41_1094bbed7d2erow0_col3\" class=\"data row0 col3\" >0.866667</td>\n",
       "                        <td id=\"T_04785f50_98f8_11eb_8f41_1094bbed7d2erow0_col4\" class=\"data row0 col4\" >0.898450</td>\n",
       "            </tr>\n",
       "            <tr>\n",
       "                        <th id=\"T_04785f50_98f8_11eb_8f41_1094bbed7d2elevel0_row1\" class=\"row_heading level0 row1\" >NB-Multinomial</th>\n",
       "                        <td id=\"T_04785f50_98f8_11eb_8f41_1094bbed7d2erow1_col0\" class=\"data row1 col0\" >0.840000</td>\n",
       "                        <td id=\"T_04785f50_98f8_11eb_8f41_1094bbed7d2erow1_col1\" class=\"data row1 col1\" >0.875000</td>\n",
       "                        <td id=\"T_04785f50_98f8_11eb_8f41_1094bbed7d2erow1_col2\" class=\"data row1 col2\" >0.884211</td>\n",
       "                        <td id=\"T_04785f50_98f8_11eb_8f41_1094bbed7d2erow1_col3\" class=\"data row1 col3\" >0.933333</td>\n",
       "                        <td id=\"T_04785f50_98f8_11eb_8f41_1094bbed7d2erow1_col4\" class=\"data row1 col4\" >0.873643</td>\n",
       "            </tr>\n",
       "            <tr>\n",
       "                        <th id=\"T_04785f50_98f8_11eb_8f41_1094bbed7d2elevel0_row2\" class=\"row_heading level0 row2\" >L_1_Reg</th>\n",
       "                        <td id=\"T_04785f50_98f8_11eb_8f41_1094bbed7d2erow2_col0\" class=\"data row2 col0\" >0.977778</td>\n",
       "                        <td id=\"T_04785f50_98f8_11eb_8f41_1094bbed7d2erow2_col1\" class=\"data row2 col1\" >0.977273</td>\n",
       "                        <td id=\"T_04785f50_98f8_11eb_8f41_1094bbed7d2erow2_col2\" class=\"data row2 col2\" >0.977778</td>\n",
       "                        <td id=\"T_04785f50_98f8_11eb_8f41_1094bbed7d2erow2_col3\" class=\"data row2 col3\" >0.977778</td>\n",
       "                        <td id=\"T_04785f50_98f8_11eb_8f41_1094bbed7d2erow2_col4\" class=\"data row2 col4\" >0.977261</td>\n",
       "            </tr>\n",
       "            <tr>\n",
       "                        <th id=\"T_04785f50_98f8_11eb_8f41_1094bbed7d2elevel0_row3\" class=\"row_heading level0 row3\" >L_2_Reg</th>\n",
       "                        <td id=\"T_04785f50_98f8_11eb_8f41_1094bbed7d2erow3_col0\" class=\"data row3 col0\" >0.954545</td>\n",
       "                        <td id=\"T_04785f50_98f8_11eb_8f41_1094bbed7d2erow3_col1\" class=\"data row3 col1\" >0.943182</td>\n",
       "                        <td id=\"T_04785f50_98f8_11eb_8f41_1094bbed7d2erow3_col2\" class=\"data row3 col2\" >0.943820</td>\n",
       "                        <td id=\"T_04785f50_98f8_11eb_8f41_1094bbed7d2erow3_col3\" class=\"data row3 col3\" >0.933333</td>\n",
       "                        <td id=\"T_04785f50_98f8_11eb_8f41_1094bbed7d2erow3_col4\" class=\"data row3 col4\" >0.943411</td>\n",
       "            </tr>\n",
       "    </tbody></table>"
      ],
      "text/plain": [
       "<pandas.io.formats.style.Styler at 0x1223cbc50>"
      ]
     },
     "metadata": {},
     "output_type": "display_data"
    },
    {
     "name": "stdout",
     "output_type": "stream",
     "text": [
      "Accuracy_score:  0.9222222222222223\n",
      "F_1 score:  0.9320388349514563\n",
      "AUC score:  0.9166251866600298\n",
      "Precision:  0.8888888888888888\n",
      "Recall:  0.9795918367346939\n",
      "Accuracy_score:  0.9\n",
      "F_1 score:  0.9158878504672897\n",
      "AUC score:  0.8902439024390244\n",
      "Precision:  0.8448275862068966\n",
      "Recall:  1.0\n"
     ]
    },
    {
     "name": "stderr",
     "output_type": "stream",
     "text": [
      "/Users/zain/anaconda3/lib/python3.7/site-packages/sklearn/svm/_base.py:977: ConvergenceWarning: Liblinear failed to converge, increase the number of iterations.\n",
      "  \"the number of iterations.\", ConvergenceWarning)\n"
     ]
    },
    {
     "name": "stdout",
     "output_type": "stream",
     "text": [
      "Accuracy_score:  0.9555555555555556\n",
      "F_1 score:  0.9574468085106383\n",
      "AUC score:  0.9591836734693877\n",
      "Precision:  1.0\n",
      "Recall:  0.9183673469387755\n",
      "Accuracy_score:  0.9777777777777777\n",
      "F_1 score:  0.9795918367346939\n",
      "AUC score:  0.9776007964161274\n",
      "Precision:  0.9795918367346939\n",
      "Recall:  0.9795918367346939\n",
      "\n",
      "\n",
      "\n",
      " Table below is for: \t Eminem\n"
     ]
    },
    {
     "data": {
      "text/html": [
       "<style  type=\"text/css\" >\n",
       "#T_0894d7d0_98f8_11eb_8f41_1094bbed7d2erow1_col3,#T_0894d7d0_98f8_11eb_8f41_1094bbed7d2erow2_col0,#T_0894d7d0_98f8_11eb_8f41_1094bbed7d2erow3_col1,#T_0894d7d0_98f8_11eb_8f41_1094bbed7d2erow3_col2,#T_0894d7d0_98f8_11eb_8f41_1094bbed7d2erow3_col4{\n",
       "            background-color:  lightGreen;\n",
       "        }</style><table id=\"T_0894d7d0_98f8_11eb_8f41_1094bbed7d2e\" ><thead>    <tr>        <th class=\"blank level0\" ></th>        <th class=\"col_heading level0 col0\" >Precision</th>        <th class=\"col_heading level0 col1\" >Accuracy_score</th>        <th class=\"col_heading level0 col2\" >F_1_Score</th>        <th class=\"col_heading level0 col3\" >Recall_Score</th>        <th class=\"col_heading level0 col4\" >AUC_Score</th>    </tr></thead><tbody>\n",
       "                <tr>\n",
       "                        <th id=\"T_0894d7d0_98f8_11eb_8f41_1094bbed7d2elevel0_row0\" class=\"row_heading level0 row0\" >NB-Gaussian</th>\n",
       "                        <td id=\"T_0894d7d0_98f8_11eb_8f41_1094bbed7d2erow0_col0\" class=\"data row0 col0\" >0.888889</td>\n",
       "                        <td id=\"T_0894d7d0_98f8_11eb_8f41_1094bbed7d2erow0_col1\" class=\"data row0 col1\" >0.922222</td>\n",
       "                        <td id=\"T_0894d7d0_98f8_11eb_8f41_1094bbed7d2erow0_col2\" class=\"data row0 col2\" >0.932039</td>\n",
       "                        <td id=\"T_0894d7d0_98f8_11eb_8f41_1094bbed7d2erow0_col3\" class=\"data row0 col3\" >0.979592</td>\n",
       "                        <td id=\"T_0894d7d0_98f8_11eb_8f41_1094bbed7d2erow0_col4\" class=\"data row0 col4\" >0.916625</td>\n",
       "            </tr>\n",
       "            <tr>\n",
       "                        <th id=\"T_0894d7d0_98f8_11eb_8f41_1094bbed7d2elevel0_row1\" class=\"row_heading level0 row1\" >NB-Multinomial</th>\n",
       "                        <td id=\"T_0894d7d0_98f8_11eb_8f41_1094bbed7d2erow1_col0\" class=\"data row1 col0\" >0.844828</td>\n",
       "                        <td id=\"T_0894d7d0_98f8_11eb_8f41_1094bbed7d2erow1_col1\" class=\"data row1 col1\" >0.900000</td>\n",
       "                        <td id=\"T_0894d7d0_98f8_11eb_8f41_1094bbed7d2erow1_col2\" class=\"data row1 col2\" >0.915888</td>\n",
       "                        <td id=\"T_0894d7d0_98f8_11eb_8f41_1094bbed7d2erow1_col3\" class=\"data row1 col3\" >1.000000</td>\n",
       "                        <td id=\"T_0894d7d0_98f8_11eb_8f41_1094bbed7d2erow1_col4\" class=\"data row1 col4\" >0.890244</td>\n",
       "            </tr>\n",
       "            <tr>\n",
       "                        <th id=\"T_0894d7d0_98f8_11eb_8f41_1094bbed7d2elevel0_row2\" class=\"row_heading level0 row2\" >L_1_Reg</th>\n",
       "                        <td id=\"T_0894d7d0_98f8_11eb_8f41_1094bbed7d2erow2_col0\" class=\"data row2 col0\" >1.000000</td>\n",
       "                        <td id=\"T_0894d7d0_98f8_11eb_8f41_1094bbed7d2erow2_col1\" class=\"data row2 col1\" >0.955556</td>\n",
       "                        <td id=\"T_0894d7d0_98f8_11eb_8f41_1094bbed7d2erow2_col2\" class=\"data row2 col2\" >0.957447</td>\n",
       "                        <td id=\"T_0894d7d0_98f8_11eb_8f41_1094bbed7d2erow2_col3\" class=\"data row2 col3\" >0.918367</td>\n",
       "                        <td id=\"T_0894d7d0_98f8_11eb_8f41_1094bbed7d2erow2_col4\" class=\"data row2 col4\" >0.959184</td>\n",
       "            </tr>\n",
       "            <tr>\n",
       "                        <th id=\"T_0894d7d0_98f8_11eb_8f41_1094bbed7d2elevel0_row3\" class=\"row_heading level0 row3\" >L_2_Reg</th>\n",
       "                        <td id=\"T_0894d7d0_98f8_11eb_8f41_1094bbed7d2erow3_col0\" class=\"data row3 col0\" >0.979592</td>\n",
       "                        <td id=\"T_0894d7d0_98f8_11eb_8f41_1094bbed7d2erow3_col1\" class=\"data row3 col1\" >0.977778</td>\n",
       "                        <td id=\"T_0894d7d0_98f8_11eb_8f41_1094bbed7d2erow3_col2\" class=\"data row3 col2\" >0.979592</td>\n",
       "                        <td id=\"T_0894d7d0_98f8_11eb_8f41_1094bbed7d2erow3_col3\" class=\"data row3 col3\" >0.979592</td>\n",
       "                        <td id=\"T_0894d7d0_98f8_11eb_8f41_1094bbed7d2erow3_col4\" class=\"data row3 col4\" >0.977601</td>\n",
       "            </tr>\n",
       "    </tbody></table>"
      ],
      "text/plain": [
       "<pandas.io.formats.style.Styler at 0x12b9a4240>"
      ]
     },
     "metadata": {},
     "output_type": "display_data"
    },
    {
     "name": "stdout",
     "output_type": "stream",
     "text": [
      "Accuracy_score:  0.8666666666666667\n",
      "F_1 score:  0.6153846153846153\n",
      "AUC score:  0.9253731343283582\n",
      "Precision:  0.4444444444444444\n",
      "Recall:  1.0\n",
      "Accuracy_score:  0.8933333333333333\n",
      "F_1 score:  0.6666666666666666\n",
      "AUC score:  0.9402985074626865\n",
      "Precision:  0.5\n",
      "Recall:  1.0\n",
      "Accuracy_score:  0.92\n",
      "F_1 score:  0.7000000000000001\n",
      "AUC score:  0.9001865671641791\n",
      "Precision:  0.5833333333333334\n",
      "Recall:  0.875\n",
      "Accuracy_score:  0.9333333333333333\n",
      "F_1 score:  0.7368421052631579\n",
      "AUC score:  0.9076492537313433\n",
      "Precision:  0.6363636363636364\n",
      "Recall:  0.875\n",
      "\n",
      "\n",
      "\n",
      " Table below is for: \t Shakira\n"
     ]
    },
    {
     "data": {
      "text/html": [
       "<style  type=\"text/css\" >\n",
       "#T_09b62d1c_98f8_11eb_8f41_1094bbed7d2erow0_col3,#T_09b62d1c_98f8_11eb_8f41_1094bbed7d2erow1_col3,#T_09b62d1c_98f8_11eb_8f41_1094bbed7d2erow1_col4,#T_09b62d1c_98f8_11eb_8f41_1094bbed7d2erow3_col0,#T_09b62d1c_98f8_11eb_8f41_1094bbed7d2erow3_col1,#T_09b62d1c_98f8_11eb_8f41_1094bbed7d2erow3_col2{\n",
       "            background-color:  lightGreen;\n",
       "        }</style><table id=\"T_09b62d1c_98f8_11eb_8f41_1094bbed7d2e\" ><thead>    <tr>        <th class=\"blank level0\" ></th>        <th class=\"col_heading level0 col0\" >Precision</th>        <th class=\"col_heading level0 col1\" >Accuracy_score</th>        <th class=\"col_heading level0 col2\" >F_1_Score</th>        <th class=\"col_heading level0 col3\" >Recall_Score</th>        <th class=\"col_heading level0 col4\" >AUC_Score</th>    </tr></thead><tbody>\n",
       "                <tr>\n",
       "                        <th id=\"T_09b62d1c_98f8_11eb_8f41_1094bbed7d2elevel0_row0\" class=\"row_heading level0 row0\" >NB-Gaussian</th>\n",
       "                        <td id=\"T_09b62d1c_98f8_11eb_8f41_1094bbed7d2erow0_col0\" class=\"data row0 col0\" >0.444444</td>\n",
       "                        <td id=\"T_09b62d1c_98f8_11eb_8f41_1094bbed7d2erow0_col1\" class=\"data row0 col1\" >0.866667</td>\n",
       "                        <td id=\"T_09b62d1c_98f8_11eb_8f41_1094bbed7d2erow0_col2\" class=\"data row0 col2\" >0.615385</td>\n",
       "                        <td id=\"T_09b62d1c_98f8_11eb_8f41_1094bbed7d2erow0_col3\" class=\"data row0 col3\" >1.000000</td>\n",
       "                        <td id=\"T_09b62d1c_98f8_11eb_8f41_1094bbed7d2erow0_col4\" class=\"data row0 col4\" >0.925373</td>\n",
       "            </tr>\n",
       "            <tr>\n",
       "                        <th id=\"T_09b62d1c_98f8_11eb_8f41_1094bbed7d2elevel0_row1\" class=\"row_heading level0 row1\" >NB-Multinomial</th>\n",
       "                        <td id=\"T_09b62d1c_98f8_11eb_8f41_1094bbed7d2erow1_col0\" class=\"data row1 col0\" >0.500000</td>\n",
       "                        <td id=\"T_09b62d1c_98f8_11eb_8f41_1094bbed7d2erow1_col1\" class=\"data row1 col1\" >0.893333</td>\n",
       "                        <td id=\"T_09b62d1c_98f8_11eb_8f41_1094bbed7d2erow1_col2\" class=\"data row1 col2\" >0.666667</td>\n",
       "                        <td id=\"T_09b62d1c_98f8_11eb_8f41_1094bbed7d2erow1_col3\" class=\"data row1 col3\" >1.000000</td>\n",
       "                        <td id=\"T_09b62d1c_98f8_11eb_8f41_1094bbed7d2erow1_col4\" class=\"data row1 col4\" >0.940299</td>\n",
       "            </tr>\n",
       "            <tr>\n",
       "                        <th id=\"T_09b62d1c_98f8_11eb_8f41_1094bbed7d2elevel0_row2\" class=\"row_heading level0 row2\" >L_1_Reg</th>\n",
       "                        <td id=\"T_09b62d1c_98f8_11eb_8f41_1094bbed7d2erow2_col0\" class=\"data row2 col0\" >0.583333</td>\n",
       "                        <td id=\"T_09b62d1c_98f8_11eb_8f41_1094bbed7d2erow2_col1\" class=\"data row2 col1\" >0.920000</td>\n",
       "                        <td id=\"T_09b62d1c_98f8_11eb_8f41_1094bbed7d2erow2_col2\" class=\"data row2 col2\" >0.700000</td>\n",
       "                        <td id=\"T_09b62d1c_98f8_11eb_8f41_1094bbed7d2erow2_col3\" class=\"data row2 col3\" >0.875000</td>\n",
       "                        <td id=\"T_09b62d1c_98f8_11eb_8f41_1094bbed7d2erow2_col4\" class=\"data row2 col4\" >0.900187</td>\n",
       "            </tr>\n",
       "            <tr>\n",
       "                        <th id=\"T_09b62d1c_98f8_11eb_8f41_1094bbed7d2elevel0_row3\" class=\"row_heading level0 row3\" >L_2_Reg</th>\n",
       "                        <td id=\"T_09b62d1c_98f8_11eb_8f41_1094bbed7d2erow3_col0\" class=\"data row3 col0\" >0.636364</td>\n",
       "                        <td id=\"T_09b62d1c_98f8_11eb_8f41_1094bbed7d2erow3_col1\" class=\"data row3 col1\" >0.933333</td>\n",
       "                        <td id=\"T_09b62d1c_98f8_11eb_8f41_1094bbed7d2erow3_col2\" class=\"data row3 col2\" >0.736842</td>\n",
       "                        <td id=\"T_09b62d1c_98f8_11eb_8f41_1094bbed7d2erow3_col3\" class=\"data row3 col3\" >0.875000</td>\n",
       "                        <td id=\"T_09b62d1c_98f8_11eb_8f41_1094bbed7d2erow3_col4\" class=\"data row3 col4\" >0.907649</td>\n",
       "            </tr>\n",
       "    </tbody></table>"
      ],
      "text/plain": [
       "<pandas.io.formats.style.Styler at 0x10f3471d0>"
      ]
     },
     "metadata": {},
     "output_type": "display_data"
    },
    {
     "name": "stdout",
     "output_type": "stream",
     "text": [
      "Accuracy_score:  0.7142857142857143\n",
      "F_1 score:  0.6\n",
      "AUC score:  0.8181818181818181\n",
      "Precision:  0.42857142857142855\n",
      "Recall:  1.0\n",
      "Accuracy_score:  0.8571428571428571\n",
      "F_1 score:  0.7499999999999999\n",
      "AUC score:  0.9090909090909091\n",
      "Precision:  0.6\n",
      "Recall:  1.0\n"
     ]
    },
    {
     "name": "stderr",
     "output_type": "stream",
     "text": [
      "/Users/zain/anaconda3/lib/python3.7/site-packages/sklearn/svm/_base.py:977: ConvergenceWarning: Liblinear failed to converge, increase the number of iterations.\n",
      "  \"the number of iterations.\", ConvergenceWarning)\n"
     ]
    },
    {
     "name": "stdout",
     "output_type": "stream",
     "text": [
      "Accuracy_score:  0.9857142857142858\n",
      "F_1 score:  0.967741935483871\n",
      "AUC score:  0.9909090909090909\n",
      "Precision:  0.9375\n",
      "Recall:  1.0\n",
      "Accuracy_score:  0.9571428571428572\n",
      "F_1 score:  0.9032258064516129\n",
      "AUC score:  0.9484848484848485\n",
      "Precision:  0.875\n",
      "Recall:  0.9333333333333333\n",
      "\n",
      "\n",
      "\n",
      " Table below is for: \t KatyPerry\n"
     ]
    },
    {
     "data": {
      "text/html": [
       "<style  type=\"text/css\" >\n",
       "#T_0db8488c_98f8_11eb_8f41_1094bbed7d2erow0_col3,#T_0db8488c_98f8_11eb_8f41_1094bbed7d2erow1_col3,#T_0db8488c_98f8_11eb_8f41_1094bbed7d2erow2_col0,#T_0db8488c_98f8_11eb_8f41_1094bbed7d2erow2_col1,#T_0db8488c_98f8_11eb_8f41_1094bbed7d2erow2_col2,#T_0db8488c_98f8_11eb_8f41_1094bbed7d2erow2_col3,#T_0db8488c_98f8_11eb_8f41_1094bbed7d2erow2_col4{\n",
       "            background-color:  lightGreen;\n",
       "        }</style><table id=\"T_0db8488c_98f8_11eb_8f41_1094bbed7d2e\" ><thead>    <tr>        <th class=\"blank level0\" ></th>        <th class=\"col_heading level0 col0\" >Precision</th>        <th class=\"col_heading level0 col1\" >Accuracy_score</th>        <th class=\"col_heading level0 col2\" >F_1_Score</th>        <th class=\"col_heading level0 col3\" >Recall_Score</th>        <th class=\"col_heading level0 col4\" >AUC_Score</th>    </tr></thead><tbody>\n",
       "                <tr>\n",
       "                        <th id=\"T_0db8488c_98f8_11eb_8f41_1094bbed7d2elevel0_row0\" class=\"row_heading level0 row0\" >NB-Gaussian</th>\n",
       "                        <td id=\"T_0db8488c_98f8_11eb_8f41_1094bbed7d2erow0_col0\" class=\"data row0 col0\" >0.428571</td>\n",
       "                        <td id=\"T_0db8488c_98f8_11eb_8f41_1094bbed7d2erow0_col1\" class=\"data row0 col1\" >0.714286</td>\n",
       "                        <td id=\"T_0db8488c_98f8_11eb_8f41_1094bbed7d2erow0_col2\" class=\"data row0 col2\" >0.600000</td>\n",
       "                        <td id=\"T_0db8488c_98f8_11eb_8f41_1094bbed7d2erow0_col3\" class=\"data row0 col3\" >1.000000</td>\n",
       "                        <td id=\"T_0db8488c_98f8_11eb_8f41_1094bbed7d2erow0_col4\" class=\"data row0 col4\" >0.818182</td>\n",
       "            </tr>\n",
       "            <tr>\n",
       "                        <th id=\"T_0db8488c_98f8_11eb_8f41_1094bbed7d2elevel0_row1\" class=\"row_heading level0 row1\" >NB-Multinomial</th>\n",
       "                        <td id=\"T_0db8488c_98f8_11eb_8f41_1094bbed7d2erow1_col0\" class=\"data row1 col0\" >0.600000</td>\n",
       "                        <td id=\"T_0db8488c_98f8_11eb_8f41_1094bbed7d2erow1_col1\" class=\"data row1 col1\" >0.857143</td>\n",
       "                        <td id=\"T_0db8488c_98f8_11eb_8f41_1094bbed7d2erow1_col2\" class=\"data row1 col2\" >0.750000</td>\n",
       "                        <td id=\"T_0db8488c_98f8_11eb_8f41_1094bbed7d2erow1_col3\" class=\"data row1 col3\" >1.000000</td>\n",
       "                        <td id=\"T_0db8488c_98f8_11eb_8f41_1094bbed7d2erow1_col4\" class=\"data row1 col4\" >0.909091</td>\n",
       "            </tr>\n",
       "            <tr>\n",
       "                        <th id=\"T_0db8488c_98f8_11eb_8f41_1094bbed7d2elevel0_row2\" class=\"row_heading level0 row2\" >L_1_Reg</th>\n",
       "                        <td id=\"T_0db8488c_98f8_11eb_8f41_1094bbed7d2erow2_col0\" class=\"data row2 col0\" >0.937500</td>\n",
       "                        <td id=\"T_0db8488c_98f8_11eb_8f41_1094bbed7d2erow2_col1\" class=\"data row2 col1\" >0.985714</td>\n",
       "                        <td id=\"T_0db8488c_98f8_11eb_8f41_1094bbed7d2erow2_col2\" class=\"data row2 col2\" >0.967742</td>\n",
       "                        <td id=\"T_0db8488c_98f8_11eb_8f41_1094bbed7d2erow2_col3\" class=\"data row2 col3\" >1.000000</td>\n",
       "                        <td id=\"T_0db8488c_98f8_11eb_8f41_1094bbed7d2erow2_col4\" class=\"data row2 col4\" >0.990909</td>\n",
       "            </tr>\n",
       "            <tr>\n",
       "                        <th id=\"T_0db8488c_98f8_11eb_8f41_1094bbed7d2elevel0_row3\" class=\"row_heading level0 row3\" >L_2_Reg</th>\n",
       "                        <td id=\"T_0db8488c_98f8_11eb_8f41_1094bbed7d2erow3_col0\" class=\"data row3 col0\" >0.875000</td>\n",
       "                        <td id=\"T_0db8488c_98f8_11eb_8f41_1094bbed7d2erow3_col1\" class=\"data row3 col1\" >0.957143</td>\n",
       "                        <td id=\"T_0db8488c_98f8_11eb_8f41_1094bbed7d2erow3_col2\" class=\"data row3 col2\" >0.903226</td>\n",
       "                        <td id=\"T_0db8488c_98f8_11eb_8f41_1094bbed7d2erow3_col3\" class=\"data row3 col3\" >0.933333</td>\n",
       "                        <td id=\"T_0db8488c_98f8_11eb_8f41_1094bbed7d2erow3_col4\" class=\"data row3 col4\" >0.948485</td>\n",
       "            </tr>\n",
       "    </tbody></table>"
      ],
      "text/plain": [
       "<pandas.io.formats.style.Styler at 0x1223a9c88>"
      ]
     },
     "metadata": {},
     "output_type": "display_data"
    },
    {
     "name": "stdout",
     "output_type": "stream",
     "text": [
      "Accuracy_score:  0.8285714285714286\n",
      "F_1 score:  0.7142857142857143\n",
      "AUC score:  0.890909090909091\n",
      "Precision:  0.5555555555555556\n",
      "Recall:  1.0\n",
      "Accuracy_score:  0.8857142857142857\n",
      "F_1 score:  0.7894736842105263\n",
      "AUC score:  0.9272727272727272\n",
      "Precision:  0.6521739130434783\n",
      "Recall:  1.0\n"
     ]
    },
    {
     "name": "stderr",
     "output_type": "stream",
     "text": [
      "/Users/zain/anaconda3/lib/python3.7/site-packages/sklearn/svm/_base.py:977: ConvergenceWarning: Liblinear failed to converge, increase the number of iterations.\n",
      "  \"the number of iterations.\", ConvergenceWarning)\n",
      "/Users/zain/anaconda3/lib/python3.7/site-packages/sklearn/svm/_base.py:977: ConvergenceWarning: Liblinear failed to converge, increase the number of iterations.\n",
      "  \"the number of iterations.\", ConvergenceWarning)\n",
      "/Users/zain/anaconda3/lib/python3.7/site-packages/sklearn/svm/_base.py:977: ConvergenceWarning: Liblinear failed to converge, increase the number of iterations.\n",
      "  \"the number of iterations.\", ConvergenceWarning)\n"
     ]
    },
    {
     "name": "stdout",
     "output_type": "stream",
     "text": [
      "Accuracy_score:  0.9428571428571428\n",
      "F_1 score:  0.8823529411764706\n",
      "AUC score:  0.9636363636363636\n",
      "Precision:  0.7894736842105263\n",
      "Recall:  1.0\n",
      "Accuracy_score:  0.9285714285714286\n",
      "F_1 score:  0.8571428571428571\n",
      "AUC score:  0.9545454545454545\n",
      "Precision:  0.75\n",
      "Recall:  1.0\n",
      "\n",
      "\n",
      "\n",
      " Table below is for: \t Psy\n"
     ]
    },
    {
     "data": {
      "text/html": [
       "<style  type=\"text/css\" >\n",
       "#T_15bd3736_98f8_11eb_8f41_1094bbed7d2erow0_col3,#T_15bd3736_98f8_11eb_8f41_1094bbed7d2erow1_col3,#T_15bd3736_98f8_11eb_8f41_1094bbed7d2erow2_col0,#T_15bd3736_98f8_11eb_8f41_1094bbed7d2erow2_col1,#T_15bd3736_98f8_11eb_8f41_1094bbed7d2erow2_col2,#T_15bd3736_98f8_11eb_8f41_1094bbed7d2erow2_col3,#T_15bd3736_98f8_11eb_8f41_1094bbed7d2erow2_col4,#T_15bd3736_98f8_11eb_8f41_1094bbed7d2erow3_col3{\n",
       "            background-color:  lightGreen;\n",
       "        }</style><table id=\"T_15bd3736_98f8_11eb_8f41_1094bbed7d2e\" ><thead>    <tr>        <th class=\"blank level0\" ></th>        <th class=\"col_heading level0 col0\" >Precision</th>        <th class=\"col_heading level0 col1\" >Accuracy_score</th>        <th class=\"col_heading level0 col2\" >F_1_Score</th>        <th class=\"col_heading level0 col3\" >Recall_Score</th>        <th class=\"col_heading level0 col4\" >AUC_Score</th>    </tr></thead><tbody>\n",
       "                <tr>\n",
       "                        <th id=\"T_15bd3736_98f8_11eb_8f41_1094bbed7d2elevel0_row0\" class=\"row_heading level0 row0\" >NB-Gaussian</th>\n",
       "                        <td id=\"T_15bd3736_98f8_11eb_8f41_1094bbed7d2erow0_col0\" class=\"data row0 col0\" >0.555556</td>\n",
       "                        <td id=\"T_15bd3736_98f8_11eb_8f41_1094bbed7d2erow0_col1\" class=\"data row0 col1\" >0.828571</td>\n",
       "                        <td id=\"T_15bd3736_98f8_11eb_8f41_1094bbed7d2erow0_col2\" class=\"data row0 col2\" >0.714286</td>\n",
       "                        <td id=\"T_15bd3736_98f8_11eb_8f41_1094bbed7d2erow0_col3\" class=\"data row0 col3\" >1.000000</td>\n",
       "                        <td id=\"T_15bd3736_98f8_11eb_8f41_1094bbed7d2erow0_col4\" class=\"data row0 col4\" >0.890909</td>\n",
       "            </tr>\n",
       "            <tr>\n",
       "                        <th id=\"T_15bd3736_98f8_11eb_8f41_1094bbed7d2elevel0_row1\" class=\"row_heading level0 row1\" >NB-Multinomial</th>\n",
       "                        <td id=\"T_15bd3736_98f8_11eb_8f41_1094bbed7d2erow1_col0\" class=\"data row1 col0\" >0.652174</td>\n",
       "                        <td id=\"T_15bd3736_98f8_11eb_8f41_1094bbed7d2erow1_col1\" class=\"data row1 col1\" >0.885714</td>\n",
       "                        <td id=\"T_15bd3736_98f8_11eb_8f41_1094bbed7d2erow1_col2\" class=\"data row1 col2\" >0.789474</td>\n",
       "                        <td id=\"T_15bd3736_98f8_11eb_8f41_1094bbed7d2erow1_col3\" class=\"data row1 col3\" >1.000000</td>\n",
       "                        <td id=\"T_15bd3736_98f8_11eb_8f41_1094bbed7d2erow1_col4\" class=\"data row1 col4\" >0.927273</td>\n",
       "            </tr>\n",
       "            <tr>\n",
       "                        <th id=\"T_15bd3736_98f8_11eb_8f41_1094bbed7d2elevel0_row2\" class=\"row_heading level0 row2\" >L_1_Reg</th>\n",
       "                        <td id=\"T_15bd3736_98f8_11eb_8f41_1094bbed7d2erow2_col0\" class=\"data row2 col0\" >0.789474</td>\n",
       "                        <td id=\"T_15bd3736_98f8_11eb_8f41_1094bbed7d2erow2_col1\" class=\"data row2 col1\" >0.942857</td>\n",
       "                        <td id=\"T_15bd3736_98f8_11eb_8f41_1094bbed7d2erow2_col2\" class=\"data row2 col2\" >0.882353</td>\n",
       "                        <td id=\"T_15bd3736_98f8_11eb_8f41_1094bbed7d2erow2_col3\" class=\"data row2 col3\" >1.000000</td>\n",
       "                        <td id=\"T_15bd3736_98f8_11eb_8f41_1094bbed7d2erow2_col4\" class=\"data row2 col4\" >0.963636</td>\n",
       "            </tr>\n",
       "            <tr>\n",
       "                        <th id=\"T_15bd3736_98f8_11eb_8f41_1094bbed7d2elevel0_row3\" class=\"row_heading level0 row3\" >L_2_Reg</th>\n",
       "                        <td id=\"T_15bd3736_98f8_11eb_8f41_1094bbed7d2erow3_col0\" class=\"data row3 col0\" >0.750000</td>\n",
       "                        <td id=\"T_15bd3736_98f8_11eb_8f41_1094bbed7d2erow3_col1\" class=\"data row3 col1\" >0.928571</td>\n",
       "                        <td id=\"T_15bd3736_98f8_11eb_8f41_1094bbed7d2erow3_col2\" class=\"data row3 col2\" >0.857143</td>\n",
       "                        <td id=\"T_15bd3736_98f8_11eb_8f41_1094bbed7d2erow3_col3\" class=\"data row3 col3\" >1.000000</td>\n",
       "                        <td id=\"T_15bd3736_98f8_11eb_8f41_1094bbed7d2erow3_col4\" class=\"data row3 col4\" >0.954545</td>\n",
       "            </tr>\n",
       "    </tbody></table>"
      ],
      "text/plain": [
       "<pandas.io.formats.style.Styler at 0x12ebbafd0>"
      ]
     },
     "metadata": {},
     "output_type": "display_data"
    }
   ],
   "source": [
    "\n",
    "\n",
    "for i in all_dfs:\n",
    "    Runner_up = pd.read_csv(\"/Users/zain/Downloads/YouTube-Spam-Collection-v1/\"+i)\n",
    "    first = MyClass(Runner_up)\n",
    "    first_ = first.gaussian_()\n",
    "    second = MyClass_2(Runner_up)\n",
    "    second_ = second.Multinom_()\n",
    "    third = MyClass_3(Runner_up)\n",
    "    third_ = third.L_1_Reg_()\n",
    "    fourth = MyClass_4(Runner_up)\n",
    "    fourth_ = fourth.L_2_Reg_()\n",
    "\n",
    "    full_df = pd.DataFrame(precision_vals, columns = ['Precision'], index = index_vals)\n",
    "    full_df['Accuracy_score'] = accuracy_vals\n",
    "    full_df['F_1_Score'] = f_1_vals\n",
    "    full_df['Recall_Score'] = recall_vals\n",
    "    full_df['AUC_Score'] = auc_vals\n",
    "    full_df = full_df.style.highlight_max(color = 'lightGreen', axis = 0)\n",
    "    start = '-'\n",
    "    end = '.csv'\n",
    "    caption = (i.split(start))[1].split(end)[0]\n",
    "    print(\"\\n\\n\\n Table below is for: \\t\",caption,)\n",
    "    display(full_df)\n",
    "    \n",
    "    precision_vals.clear()\n",
    "    accuracy_vals.clear()\n",
    "    f_1_vals.clear() \n",
    "    recall_vals.clear()\n",
    "    auc_vals.clear() "
   ]
  },
  {
   "cell_type": "code",
   "execution_count": null,
   "metadata": {},
   "outputs": [],
   "source": []
  },
  {
   "cell_type": "code",
   "execution_count": null,
   "metadata": {},
   "outputs": [],
   "source": []
  },
  {
   "cell_type": "code",
   "execution_count": null,
   "metadata": {},
   "outputs": [],
   "source": []
  }
 ],
 "metadata": {
  "kernelspec": {
   "display_name": "Python 3",
   "language": "python",
   "name": "python3"
  },
  "language_info": {
   "codemirror_mode": {
    "name": "ipython",
    "version": 3
   },
   "file_extension": ".py",
   "mimetype": "text/x-python",
   "name": "python",
   "nbconvert_exporter": "python",
   "pygments_lexer": "ipython3",
   "version": "3.7.1"
  }
 },
 "nbformat": 4,
 "nbformat_minor": 2
}
